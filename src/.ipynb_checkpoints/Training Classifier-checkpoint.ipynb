{
 "cells": [
  {
   "cell_type": "markdown",
   "metadata": {},
   "source": [
    "# Validation and Training"
   ]
  },
  {
   "cell_type": "markdown",
   "metadata": {},
   "source": [
    "## Import Packages and Dataset"
   ]
  },
  {
   "cell_type": "code",
   "execution_count": 8,
   "metadata": {},
   "outputs": [],
   "source": [
    "import pandas as pd\n",
    "import numpy as np\n",
    "import matplotlib.pyplot as plt\n",
    "import seaborn as sns\n",
    "\n",
    "import math\n",
    "from sklearn.svm import SVC\n",
    "from sklearn.model_selection import RandomizedSearchCV\n",
    "from sklearn.model_selection import GridSearchCV\n",
    "from sklearn.metrics import classification_report, confusion_matrix,accuracy_score,hamming_loss\n",
    "from sklearn.model_selection import ShuffleSplit\n",
    "\n",
    "from skmultilearn.problem_transform import BinaryRelevance\n",
    "from skmultilearn.problem_transform import ClassifierChain\n",
    "from skmultilearn.problem_transform import LabelPowerset\n",
    "\n",
    "import pickle\n",
    "\n",
    "import warnings\n",
    "warnings.filterwarnings('ignore')"
   ]
  },
  {
   "cell_type": "code",
   "execution_count": 2,
   "metadata": {},
   "outputs": [],
   "source": [
    "data_train_full = pd.read_csv(\"../Data/Data_train_full_tfidf.csv\")\n",
    "data_train_nostopword = pd.read_csv(\"../Data/Data_train_nostopword_tfidf.csv\")\n",
    "data_train_nostemstop = pd.read_csv(\"../Data/Data_train_nostemstop_tfidf.csv\")"
   ]
  },
  {
   "cell_type": "code",
   "execution_count": 3,
   "metadata": {},
   "outputs": [],
   "source": [
    "data_train_trans_full = pd.read_csv(\"../Data/Data_train_trans_full_tfidf.csv\")\n",
    "data_train_trans_nostopword = pd.read_csv(\"../Data/Data_train_trans_nostopword_tfidf.csv\")\n",
    "data_train_trans_nostemstop = pd.read_csv(\"../Data/Data_train_trans_nostemstop_tfidf.csv\")"
   ]
  },
  {
   "cell_type": "markdown",
   "metadata": {},
   "source": [
    "## Features Target Split"
   ]
  },
  {
   "cell_type": "code",
   "execution_count": 4,
   "metadata": {},
   "outputs": [],
   "source": [
    "X_train_full = data_train_full.drop(['HS','Abusive','HS_Individual','HS_Group','HS_Religion','HS_Race','HS_Physical','HS_Gender','HS_Other','HS_Weak','HS_Moderate','HS_Strong'],axis=1)\n",
    "y_train_full = data_train_full[['HS','Abusive','HS_Individual','HS_Group','HS_Religion','HS_Race','HS_Physical','HS_Gender','HS_Other','HS_Weak','HS_Moderate','HS_Strong']]\n",
    "\n",
    "X_train_nostopword = data_train_nostopword.drop(['HS','Abusive','HS_Individual','HS_Group','HS_Religion','HS_Race','HS_Physical','HS_Gender','HS_Other','HS_Weak','HS_Moderate','HS_Strong'],axis=1)\n",
    "y_train_nostopword = data_train_nostopword[['HS','Abusive','HS_Individual','HS_Group','HS_Religion','HS_Race','HS_Physical','HS_Gender','HS_Other','HS_Weak','HS_Moderate','HS_Strong']]\n",
    "\n",
    "X_train_nostemstop = data_train_nostemstop.drop(['HS','Abusive','HS_Individual','HS_Group','HS_Religion','HS_Race','HS_Physical','HS_Gender','HS_Other','HS_Weak','HS_Moderate','HS_Strong'],axis=1)\n",
    "y_train_nostemstop = data_train_nostemstop[['HS','Abusive','HS_Individual','HS_Group','HS_Religion','HS_Race','HS_Physical','HS_Gender','HS_Other','HS_Weak','HS_Moderate','HS_Strong']]"
   ]
  },
  {
   "cell_type": "code",
   "execution_count": 5,
   "metadata": {},
   "outputs": [],
   "source": [
    "X_train_trans_full = data_train_trans_full.drop(['HS','Abusive','HS_Individual','HS_Group','HS_Religion','HS_Race','HS_Physical','HS_Gender','HS_Other','HS_Weak','HS_Moderate','HS_Strong'],axis=1)\n",
    "y_train_trans_full = data_train_trans_full[['HS','Abusive','HS_Individual','HS_Group','HS_Religion','HS_Race','HS_Physical','HS_Gender','HS_Other','HS_Weak','HS_Moderate','HS_Strong']]\n",
    "\n",
    "X_train_trans_nostopword = data_train_trans_nostopword.drop(['HS','Abusive','HS_Individual','HS_Group','HS_Religion','HS_Race','HS_Physical','HS_Gender','HS_Other','HS_Weak','HS_Moderate','HS_Strong'],axis=1)\n",
    "y_train_trans_nostopword = data_train_trans_nostopword[['HS','Abusive','HS_Individual','HS_Group','HS_Religion','HS_Race','HS_Physical','HS_Gender','HS_Other','HS_Weak','HS_Moderate','HS_Strong']]\n",
    "\n",
    "X_train_trans_nostemstop = data_train_trans_nostemstop.drop(['HS','Abusive','HS_Individual','HS_Group','HS_Religion','HS_Race','HS_Physical','HS_Gender','HS_Other','HS_Weak','HS_Moderate','HS_Strong'],axis=1)\n",
    "y_train_trans_nostemstop = data_train_trans_nostemstop[['HS','Abusive','HS_Individual','HS_Group','HS_Religion','HS_Race','HS_Physical','HS_Gender','HS_Other','HS_Weak','HS_Moderate','HS_Strong']]"
   ]
  },
  {
   "cell_type": "markdown",
   "metadata": {},
   "source": [
    "## Cross-Validation for Hyperparameter Tuning"
   ]
  },
  {
   "cell_type": "markdown",
   "metadata": {},
   "source": [
    "**1. Classifier Chains**"
   ]
  },
  {
   "cell_type": "code",
   "execution_count": 9,
   "metadata": {},
   "outputs": [],
   "source": [
    "classifier_CC = ClassifierChain(SVC())"
   ]
  },
  {
   "cell_type": "markdown",
   "metadata": {},
   "source": [
    "**2. Label Powerset**"
   ]
  },
  {
   "cell_type": "code",
   "execution_count": 10,
   "metadata": {},
   "outputs": [],
   "source": [
    "classifier_LP = LabelPowerset(SVC())"
   ]
  },
  {
   "cell_type": "markdown",
   "metadata": {},
   "source": [
    "### Random Search Cross Validation"
   ]
  },
  {
   "cell_type": "code",
   "execution_count": 11,
   "metadata": {},
   "outputs": [],
   "source": [
    "random_grid = {'classifier__C': [.0001, .001, .01],\n",
    "                'classifier__kernel': ['linear', 'rbf', 'poly'],\n",
    "                'classifier__gamma': [.0001, .001, .01, .1, 1, 10, 100],\n",
    "                'classifier__degree': [1, 2, 3, 4, 5],\n",
    "                'classifier__probability': [True,False]\n",
    "            }"
   ]
  },
  {
   "cell_type": "markdown",
   "metadata": {},
   "source": [
    "**1. Classifier Chains**"
   ]
  },
  {
   "cell_type": "code",
   "execution_count": 12,
   "metadata": {},
   "outputs": [],
   "source": [
    "cv_sets = ShuffleSplit(n_splits = 1, test_size = 0.10, random_state = 8)\n",
    "\n",
    "random_search_CC = RandomizedSearchCV(estimator=classifier_CC,\n",
    "                                   param_distributions=random_grid,\n",
    "                                   n_iter=10,\n",
    "                                   scoring=None,\n",
    "                                   cv=cv_sets, \n",
    "                                   verbose=15,\n",
    "                                   n_jobs = -1)"
   ]
  },
  {
   "cell_type": "code",
   "execution_count": 13,
   "metadata": {},
   "outputs": [
    {
     "name": "stdout",
     "output_type": "stream",
     "text": [
      "Fitting 1 folds for each of 10 candidates, totalling 10 fits\n"
     ]
    },
    {
     "name": "stderr",
     "output_type": "stream",
     "text": [
      "[Parallel(n_jobs=-1)]: Using backend LokyBackend with 4 concurrent workers.\n",
      "[Parallel(n_jobs=-1)]: Done   1 tasks      | elapsed: 15.7min\n",
      "[Parallel(n_jobs=-1)]: Done   2 tasks      | elapsed: 35.6min\n",
      "[Parallel(n_jobs=-1)]: Done   3 tasks      | elapsed: 54.6min\n",
      "[Parallel(n_jobs=-1)]: Done   4 out of  10 | elapsed: 75.5min remaining: 113.2min\n",
      "[Parallel(n_jobs=-1)]: Done   5 out of  10 | elapsed: 96.3min remaining: 96.3min\n",
      "[Parallel(n_jobs=-1)]: Done   6 out of  10 | elapsed: 105.5min remaining: 70.3min\n",
      "[Parallel(n_jobs=-1)]: Done   7 out of  10 | elapsed: 105.5min remaining: 45.2min\n",
      "[Parallel(n_jobs=-1)]: Done   8 out of  10 | elapsed: 149.3min remaining: 37.3min\n",
      "[Parallel(n_jobs=-1)]: Done  10 out of  10 | elapsed: 174.1min remaining:    0.0s\n",
      "[Parallel(n_jobs=-1)]: Done  10 out of  10 | elapsed: 174.1min finished\n"
     ]
    },
    {
     "data": {
      "text/plain": [
       "RandomizedSearchCV(cv=ShuffleSplit(n_splits=1, random_state=8, test_size=0.1, train_size=None),\n",
       "                   error_score='raise-deprecating',\n",
       "                   estimator=ClassifierChain(classifier=SVC(C=1.0,\n",
       "                                                            cache_size=200,\n",
       "                                                            class_weight=None,\n",
       "                                                            coef0=0.0,\n",
       "                                                            decision_function_shape='ovr',\n",
       "                                                            degree=3,\n",
       "                                                            gamma='auto_deprecated',\n",
       "                                                            kernel='rbf',\n",
       "                                                            max_iter=-1,\n",
       "                                                            probability=False,\n",
       "                                                            random_state=None,\n",
       "                                                            shrinking=Tr...\n",
       "                   iid='warn', n_iter=10, n_jobs=-1,\n",
       "                   param_distributions={'classifier__C': [0.0001, 0.001, 0.01],\n",
       "                                        'classifier__degree': [1, 2, 3, 4, 5],\n",
       "                                        'classifier__gamma': [0.0001, 0.001,\n",
       "                                                              0.01, 0.1, 1, 10,\n",
       "                                                              100],\n",
       "                                        'classifier__kernel': ['linear', 'rbf',\n",
       "                                                               'poly'],\n",
       "                                        'classifier__probability': [True,\n",
       "                                                                    False]},\n",
       "                   pre_dispatch='2*n_jobs', random_state=None, refit=True,\n",
       "                   return_train_score=False, scoring=None, verbose=15)"
      ]
     },
     "execution_count": 13,
     "metadata": {},
     "output_type": "execute_result"
    }
   ],
   "source": [
    "random_search_CC.fit(X_train_full, y_train_full)"
   ]
  },
  {
   "cell_type": "code",
   "execution_count": 14,
   "metadata": {},
   "outputs": [
    {
     "name": "stdout",
     "output_type": "stream",
     "text": [
      "Best Params :  {'classifier__probability': True, 'classifier__kernel': 'linear', 'classifier__gamma': 0.1, 'classifier__degree': 2, 'classifier__C': 0.01}\n",
      "\n",
      "0.402 (+/-0.000) for {'classifier__probability': True, 'classifier__kernel': 'linear', 'classifier__gamma': 1, 'classifier__degree': 2, 'classifier__C': 0.0001}\n",
      "0.419 (+/-0.000) for {'classifier__probability': True, 'classifier__kernel': 'linear', 'classifier__gamma': 0.1, 'classifier__degree': 2, 'classifier__C': 0.01}\n",
      "0.402 (+/-0.000) for {'classifier__probability': False, 'classifier__kernel': 'poly', 'classifier__gamma': 1, 'classifier__degree': 2, 'classifier__C': 0.01}\n",
      "0.402 (+/-0.000) for {'classifier__probability': True, 'classifier__kernel': 'rbf', 'classifier__gamma': 0.0001, 'classifier__degree': 3, 'classifier__C': 0.001}\n",
      "0.402 (+/-0.000) for {'classifier__probability': False, 'classifier__kernel': 'poly', 'classifier__gamma': 0.0001, 'classifier__degree': 5, 'classifier__C': 0.01}\n",
      "0.402 (+/-0.000) for {'classifier__probability': False, 'classifier__kernel': 'linear', 'classifier__gamma': 10, 'classifier__degree': 2, 'classifier__C': 0.001}\n",
      "0.402 (+/-0.000) for {'classifier__probability': True, 'classifier__kernel': 'linear', 'classifier__gamma': 10, 'classifier__degree': 3, 'classifier__C': 0.0001}\n",
      "0.402 (+/-0.000) for {'classifier__probability': False, 'classifier__kernel': 'linear', 'classifier__gamma': 0.001, 'classifier__degree': 2, 'classifier__C': 0.0001}\n",
      "0.402 (+/-0.000) for {'classifier__probability': True, 'classifier__kernel': 'rbf', 'classifier__gamma': 1, 'classifier__degree': 1, 'classifier__C': 0.0001}\n",
      "0.419 (+/-0.000) for {'classifier__probability': True, 'classifier__kernel': 'linear', 'classifier__gamma': 0.01, 'classifier__degree': 4, 'classifier__C': 0.01}\n"
     ]
    }
   ],
   "source": [
    "print(\"Best Params : \",random_search_CC.best_params_)\n",
    "print()\n",
    "means = random_search_CC.cv_results_['mean_test_score']\n",
    "stds = random_search_CC.cv_results_['std_test_score']\n",
    "\n",
    "for mean, std, params in zip(means, stds, random_search_CC.cv_results_['params']):\n",
    "        print(\"%0.3f (+/-%0.03f) for %r\"\n",
    "              % (mean, std * 2, params))"
   ]
  },
  {
   "cell_type": "markdown",
   "metadata": {},
   "source": [
    "**2. Label Powerset**"
   ]
  },
  {
   "cell_type": "code",
   "execution_count": 15,
   "metadata": {},
   "outputs": [],
   "source": [
    "cv_sets = ShuffleSplit(n_splits = 1, test_size = 0.10, random_state = 8)\n",
    "\n",
    "random_search_LP = RandomizedSearchCV(estimator=classifier_LP,\n",
    "                                   param_distributions=random_grid,\n",
    "                                   n_iter=10,\n",
    "                                   scoring=None,\n",
    "                                   cv=cv_sets, \n",
    "                                   verbose=15,\n",
    "                                   n_jobs = -1)"
   ]
  },
  {
   "cell_type": "code",
   "execution_count": 16,
   "metadata": {},
   "outputs": [
    {
     "name": "stdout",
     "output_type": "stream",
     "text": [
      "Fitting 1 folds for each of 10 candidates, totalling 10 fits\n"
     ]
    },
    {
     "name": "stderr",
     "output_type": "stream",
     "text": [
      "[Parallel(n_jobs=-1)]: Using backend LokyBackend with 4 concurrent workers.\n",
      "[Parallel(n_jobs=-1)]: Done   1 tasks      | elapsed:  5.3min\n",
      "[Parallel(n_jobs=-1)]: Done   2 tasks      | elapsed:  5.4min\n",
      "[Parallel(n_jobs=-1)]: Done   3 tasks      | elapsed: 23.9min\n",
      "[Parallel(n_jobs=-1)]: Done   4 out of  10 | elapsed: 25.6min remaining: 38.4min\n",
      "[Parallel(n_jobs=-1)]: Done   5 out of  10 | elapsed: 27.8min remaining: 27.8min\n",
      "[Parallel(n_jobs=-1)]: Done   6 out of  10 | elapsed: 32.8min remaining: 21.9min\n",
      "[Parallel(n_jobs=-1)]: Done   7 out of  10 | elapsed: 37.6min remaining: 16.1min\n",
      "[Parallel(n_jobs=-1)]: Done   8 out of  10 | elapsed: 50.4min remaining: 12.6min\n",
      "[Parallel(n_jobs=-1)]: Done  10 out of  10 | elapsed: 69.5min remaining:    0.0s\n",
      "[Parallel(n_jobs=-1)]: Done  10 out of  10 | elapsed: 69.5min finished\n"
     ]
    },
    {
     "data": {
      "text/plain": [
       "RandomizedSearchCV(cv=ShuffleSplit(n_splits=1, random_state=8, test_size=0.1, train_size=None),\n",
       "                   error_score='raise-deprecating',\n",
       "                   estimator=LabelPowerset(classifier=SVC(C=1.0, cache_size=200,\n",
       "                                                          class_weight=None,\n",
       "                                                          coef0=0.0,\n",
       "                                                          decision_function_shape='ovr',\n",
       "                                                          degree=3,\n",
       "                                                          gamma='auto_deprecated',\n",
       "                                                          kernel='rbf',\n",
       "                                                          max_iter=-1,\n",
       "                                                          probability=False,\n",
       "                                                          random_state=None,\n",
       "                                                          shrinking=True...\n",
       "                   iid='warn', n_iter=10, n_jobs=-1,\n",
       "                   param_distributions={'classifier__C': [0.0001, 0.001, 0.01],\n",
       "                                        'classifier__degree': [1, 2, 3, 4, 5],\n",
       "                                        'classifier__gamma': [0.0001, 0.001,\n",
       "                                                              0.01, 0.1, 1, 10,\n",
       "                                                              100],\n",
       "                                        'classifier__kernel': ['linear', 'rbf',\n",
       "                                                               'poly'],\n",
       "                                        'classifier__probability': [True,\n",
       "                                                                    False]},\n",
       "                   pre_dispatch='2*n_jobs', random_state=None, refit=True,\n",
       "                   return_train_score=False, scoring=None, verbose=15)"
      ]
     },
     "execution_count": 16,
     "metadata": {},
     "output_type": "execute_result"
    }
   ],
   "source": [
    "random_search_LP.fit(X_train_full, y_train_full)"
   ]
  },
  {
   "cell_type": "code",
   "execution_count": 17,
   "metadata": {},
   "outputs": [
    {
     "name": "stdout",
     "output_type": "stream",
     "text": [
      "Best Params :  {'classifier__probability': True, 'classifier__kernel': 'poly', 'classifier__gamma': 10, 'classifier__degree': 3, 'classifier__C': 0.0001}\n",
      "\n",
      "0.402 (+/-0.000) for {'classifier__probability': False, 'classifier__kernel': 'rbf', 'classifier__gamma': 1, 'classifier__degree': 2, 'classifier__C': 0.0001}\n",
      "0.402 (+/-0.000) for {'classifier__probability': True, 'classifier__kernel': 'rbf', 'classifier__gamma': 0.01, 'classifier__degree': 2, 'classifier__C': 0.0001}\n",
      "0.402 (+/-0.000) for {'classifier__probability': False, 'classifier__kernel': 'poly', 'classifier__gamma': 0.0001, 'classifier__degree': 3, 'classifier__C': 0.01}\n",
      "0.402 (+/-0.000) for {'classifier__probability': True, 'classifier__kernel': 'linear', 'classifier__gamma': 100, 'classifier__degree': 4, 'classifier__C': 0.001}\n",
      "0.429 (+/-0.000) for {'classifier__probability': True, 'classifier__kernel': 'poly', 'classifier__gamma': 10, 'classifier__degree': 3, 'classifier__C': 0.0001}\n",
      "0.402 (+/-0.000) for {'classifier__probability': True, 'classifier__kernel': 'poly', 'classifier__gamma': 0.001, 'classifier__degree': 4, 'classifier__C': 0.001}\n",
      "0.402 (+/-0.000) for {'classifier__probability': True, 'classifier__kernel': 'rbf', 'classifier__gamma': 1, 'classifier__degree': 5, 'classifier__C': 0.01}\n",
      "0.414 (+/-0.000) for {'classifier__probability': True, 'classifier__kernel': 'linear', 'classifier__gamma': 100, 'classifier__degree': 5, 'classifier__C': 0.01}\n",
      "0.402 (+/-0.000) for {'classifier__probability': False, 'classifier__kernel': 'rbf', 'classifier__gamma': 0.001, 'classifier__degree': 5, 'classifier__C': 0.01}\n",
      "0.402 (+/-0.000) for {'classifier__probability': False, 'classifier__kernel': 'linear', 'classifier__gamma': 10, 'classifier__degree': 4, 'classifier__C': 0.0001}\n"
     ]
    }
   ],
   "source": [
    "print(\"Best Params : \",random_search_LP.best_params_)\n",
    "print()\n",
    "means = random_search_LP.cv_results_['mean_test_score']\n",
    "stds = random_search_LP.cv_results_['std_test_score']\n",
    "\n",
    "for mean, std, params in zip(means, stds, random_search_LP.cv_results_['params']):\n",
    "        print(\"%0.3f (+/-%0.03f) for %r\"\n",
    "              % (mean, std * 2, params))"
   ]
  },
  {
   "cell_type": "code",
   "execution_count": null,
   "metadata": {},
   "outputs": [],
   "source": [
    "# classifier_BR.get_params().keys()"
   ]
  },
  {
   "cell_type": "markdown",
   "metadata": {},
   "source": [
    "### Grid Search Cross Validation"
   ]
  },
  {
   "cell_type": "raw",
   "metadata": {},
   "source": [
    "Best Params :  {'classifier__probability': True, 'classifier__kernel': 'linear', 'classifier__gamma': 0.1, 'classifier__degree': 2, 'classifier__C': 0.01}\n",
    "\n",
    "{'classifier__probability': True, 'classifier__kernel': 'poly', 'classifier__gamma': 10, 'classifier__degree': 3, 'classifier__C': 0.0001}"
   ]
  },
  {
   "cell_type": "code",
   "execution_count": 22,
   "metadata": {},
   "outputs": [],
   "source": [
    "param_grid_CC = {'classifier__C': [0.0001, 0.001, 0.01, 0.1, 1],\n",
    "             'classifier__degree': [2],\n",
    "             'classifier__gamma': [0.1],\n",
    "             'classifier__kernel': ['linear'],\n",
    "             'classifier__probability': [True]\n",
    "                }\n",
    "\n",
    "param_grid_LP = {'classifier__C': [0.0001, 0.001, 0.01, 0.1, 1],\n",
    "             'classifier__degree': [3],\n",
    "             'classifier__gamma': [10],\n",
    "             'classifier__kernel': ['poly'],\n",
    "             'classifier__probability': [True]\n",
    "                }"
   ]
  },
  {
   "cell_type": "markdown",
   "metadata": {},
   "source": [
    "**1. Classifier Chains**"
   ]
  },
  {
   "cell_type": "code",
   "execution_count": 23,
   "metadata": {},
   "outputs": [
    {
     "name": "stdout",
     "output_type": "stream",
     "text": [
      "Fitting 1 folds for each of 5 candidates, totalling 5 fits\n"
     ]
    },
    {
     "name": "stderr",
     "output_type": "stream",
     "text": [
      "[Parallel(n_jobs=-1)]: Using backend LokyBackend with 4 concurrent workers.\n",
      "[Parallel(n_jobs=-1)]: Done   1 tasks      | elapsed: 56.3min\n",
      "[Parallel(n_jobs=-1)]: Done   2 out of   5 | elapsed: 73.3min remaining: 109.9min\n",
      "[Parallel(n_jobs=-1)]: Done   3 out of   5 | elapsed: 94.2min remaining: 62.8min\n",
      "[Parallel(n_jobs=-1)]: Done   5 out of   5 | elapsed: 95.9min remaining:    0.0s\n",
      "[Parallel(n_jobs=-1)]: Done   5 out of   5 | elapsed: 95.9min finished\n"
     ]
    },
    {
     "data": {
      "text/plain": [
       "GridSearchCV(cv=ShuffleSplit(n_splits=1, random_state=8, test_size=0.1, train_size=None),\n",
       "             error_score='raise-deprecating',\n",
       "             estimator=ClassifierChain(classifier=SVC(C=1.0, cache_size=200,\n",
       "                                                      class_weight=None,\n",
       "                                                      coef0=0.0,\n",
       "                                                      decision_function_shape='ovr',\n",
       "                                                      degree=3,\n",
       "                                                      gamma='auto_deprecated',\n",
       "                                                      kernel='rbf', max_iter=-1,\n",
       "                                                      probability=False,\n",
       "                                                      random_state=None,\n",
       "                                                      shrinking=True, tol=0.001,\n",
       "                                                      verbose=False),\n",
       "                                       order=None, require_dense=[True, True]),\n",
       "             iid='warn', n_jobs=-1,\n",
       "             param_grid={'classifier__C': [0.0001, 0.001, 0.01, 0.1, 1],\n",
       "                         'classifier__degree': [2], 'classifier__gamma': [0.1],\n",
       "                         'classifier__kernel': ['linear'],\n",
       "                         'classifier__probability': [True]},\n",
       "             pre_dispatch='2*n_jobs', refit=True, return_train_score=False,\n",
       "             scoring=None, verbose=15)"
      ]
     },
     "execution_count": 23,
     "metadata": {},
     "output_type": "execute_result"
    }
   ],
   "source": [
    "cv_sets = ShuffleSplit(n_splits = 1, test_size = .10, random_state = 8)\n",
    "\n",
    "grid_search_CC = GridSearchCV(estimator=classifier_CC, \n",
    "                           param_grid=param_grid_CC,\n",
    "                           cv=cv_sets,\n",
    "                           n_jobs = -1,\n",
    "                           verbose=15)\n",
    "\n",
    "grid_search_CC.fit(X_train_full,y_train_full)"
   ]
  },
  {
   "cell_type": "code",
   "execution_count": 24,
   "metadata": {},
   "outputs": [
    {
     "name": "stdout",
     "output_type": "stream",
     "text": [
      "Best Params :  {'classifier__C': 1, 'classifier__degree': 2, 'classifier__gamma': 0.1, 'classifier__kernel': 'linear', 'classifier__probability': True}\n",
      "\n",
      "0.402 (+/-0.000) for {'classifier__C': 0.0001, 'classifier__degree': 2, 'classifier__gamma': 0.1, 'classifier__kernel': 'linear', 'classifier__probability': True}\n",
      "0.402 (+/-0.000) for {'classifier__C': 0.001, 'classifier__degree': 2, 'classifier__gamma': 0.1, 'classifier__kernel': 'linear', 'classifier__probability': True}\n",
      "0.419 (+/-0.000) for {'classifier__C': 0.01, 'classifier__degree': 2, 'classifier__gamma': 0.1, 'classifier__kernel': 'linear', 'classifier__probability': True}\n",
      "0.611 (+/-0.000) for {'classifier__C': 0.1, 'classifier__degree': 2, 'classifier__gamma': 0.1, 'classifier__kernel': 'linear', 'classifier__probability': True}\n",
      "0.661 (+/-0.000) for {'classifier__C': 1, 'classifier__degree': 2, 'classifier__gamma': 0.1, 'classifier__kernel': 'linear', 'classifier__probability': True}\n"
     ]
    }
   ],
   "source": [
    "print(\"Best Params : \",grid_search_CC.best_params_)\n",
    "print()\n",
    "means = grid_search_CC.cv_results_['mean_test_score']\n",
    "stds = grid_search_CC.cv_results_['std_test_score']\n",
    "\n",
    "for mean, std, params in zip(means, stds, grid_search_CC.cv_results_['params']):\n",
    "        print(\"%0.3f (+/-%0.03f) for %r\"\n",
    "              % (mean, std * 2, params))"
   ]
  },
  {
   "cell_type": "markdown",
   "metadata": {},
   "source": [
    "**2. Label Powerset**"
   ]
  },
  {
   "cell_type": "code",
   "execution_count": null,
   "metadata": {},
   "outputs": [
    {
     "name": "stdout",
     "output_type": "stream",
     "text": [
      "Fitting 1 folds for each of 5 candidates, totalling 5 fits\n"
     ]
    },
    {
     "name": "stderr",
     "output_type": "stream",
     "text": [
      "[Parallel(n_jobs=-1)]: Using backend LokyBackend with 4 concurrent workers.\n",
      "[Parallel(n_jobs=-1)]: Done   1 tasks      | elapsed: 67.5min\n",
      "[Parallel(n_jobs=-1)]: Done   2 out of   5 | elapsed: 74.0min remaining: 111.0min\n"
     ]
    }
   ],
   "source": [
    "cv_sets = ShuffleSplit(n_splits = 1, test_size = .10, random_state = 8)\n",
    "\n",
    "grid_search_LP = GridSearchCV(estimator=classifier_LP, \n",
    "                           param_grid=param_grid_LP,\n",
    "                           cv=cv_sets,\n",
    "                           n_jobs = -1,\n",
    "                           verbose=15)\n",
    "\n",
    "grid_search_LP.fit(X_train_full,y_train_full)"
   ]
  },
  {
   "cell_type": "code",
   "execution_count": 9,
   "metadata": {},
   "outputs": [
    {
     "name": "stdout",
     "output_type": "stream",
     "text": [
      "Best Params :  {'classifier__bootstrap': False, 'classifier__max_features': 'auto', 'classifier__min_samples_leaf': 1, 'classifier__min_samples_split': 10, 'classifier__n_estimators': 800}\n",
      "\n",
      "0.677 (+/-0.000) for {'classifier__bootstrap': False, 'classifier__max_features': 'auto', 'classifier__min_samples_leaf': 1, 'classifier__min_samples_split': 10, 'classifier__n_estimators': 600}\n",
      "0.675 (+/-0.000) for {'classifier__bootstrap': False, 'classifier__max_features': 'auto', 'classifier__min_samples_leaf': 1, 'classifier__min_samples_split': 10, 'classifier__n_estimators': 700}\n",
      "0.678 (+/-0.000) for {'classifier__bootstrap': False, 'classifier__max_features': 'auto', 'classifier__min_samples_leaf': 1, 'classifier__min_samples_split': 10, 'classifier__n_estimators': 800}\n",
      "0.676 (+/-0.000) for {'classifier__bootstrap': False, 'classifier__max_features': 'auto', 'classifier__min_samples_leaf': 1, 'classifier__min_samples_split': 10, 'classifier__n_estimators': 900}\n",
      "0.675 (+/-0.000) for {'classifier__bootstrap': False, 'classifier__max_features': 'auto', 'classifier__min_samples_leaf': 1, 'classifier__min_samples_split': 10, 'classifier__n_estimators': 1000}\n"
     ]
    }
   ],
   "source": [
    "print(\"Best Params : \",grid_search_LP.best_params_)\n",
    "print()\n",
    "means = grid_search_LP.cv_results_['mean_test_score']\n",
    "stds = grid_search_LP.cv_results_['std_test_score']\n",
    "\n",
    "for mean, std, params in zip(means, stds, grid_search_LP.cv_results_['params']):\n",
    "        print(\"%0.3f (+/-%0.03f) for %r\"\n",
    "              % (mean, std * 2, params))"
   ]
  },
  {
   "cell_type": "markdown",
   "metadata": {},
   "source": [
    "## Classification"
   ]
  },
  {
   "cell_type": "code",
   "execution_count": 15,
   "metadata": {},
   "outputs": [],
   "source": [
    "classifier_CC = grid_search_CC.best_estimator_"
   ]
  },
  {
   "cell_type": "code",
   "execution_count": 16,
   "metadata": {},
   "outputs": [
    {
     "data": {
      "text/plain": [
       "ClassifierChain(classifier=RandomForestClassifier(bootstrap=False,\n",
       "                                                  class_weight=None,\n",
       "                                                  criterion='gini',\n",
       "                                                  max_depth=None,\n",
       "                                                  max_features='auto',\n",
       "                                                  max_leaf_nodes=None,\n",
       "                                                  min_impurity_decrease=0.0,\n",
       "                                                  min_impurity_split=None,\n",
       "                                                  min_samples_leaf=1,\n",
       "                                                  min_samples_split=5,\n",
       "                                                  min_weight_fraction_leaf=0.0,\n",
       "                                                  n_estimators=600, n_jobs=-1,\n",
       "                                                  oob_score=False,\n",
       "                                                  random_state=None, verbose=0,\n",
       "                                                  warm_start=False),\n",
       "                order=None, require_dense=[True, True])"
      ]
     },
     "execution_count": 16,
     "metadata": {},
     "output_type": "execute_result"
    }
   ],
   "source": [
    "classifier_CC"
   ]
  },
  {
   "cell_type": "code",
   "execution_count": 10,
   "metadata": {},
   "outputs": [],
   "source": [
    "classifier_LP = grid_search_LP.best_estimator_"
   ]
  },
  {
   "cell_type": "code",
   "execution_count": 11,
   "metadata": {},
   "outputs": [
    {
     "data": {
      "text/plain": [
       "LabelPowerset(classifier=RandomForestClassifier(bootstrap=False,\n",
       "                                                class_weight=None,\n",
       "                                                criterion='gini',\n",
       "                                                max_depth=None,\n",
       "                                                max_features='auto',\n",
       "                                                max_leaf_nodes=None,\n",
       "                                                min_impurity_decrease=0.0,\n",
       "                                                min_impurity_split=None,\n",
       "                                                min_samples_leaf=1,\n",
       "                                                min_samples_split=10,\n",
       "                                                min_weight_fraction_leaf=0.0,\n",
       "                                                n_estimators=800, n_jobs=-1,\n",
       "                                                oob_score=False,\n",
       "                                                random_state=None, verbose=0,\n",
       "                                                warm_start=False),\n",
       "              require_dense=[True, True])"
      ]
     },
     "execution_count": 11,
     "metadata": {},
     "output_type": "execute_result"
    }
   ],
   "source": [
    "classifier_LP"
   ]
  },
  {
   "cell_type": "markdown",
   "metadata": {},
   "source": [
    "**1. Classifier Chains**"
   ]
  },
  {
   "cell_type": "code",
   "execution_count": 17,
   "metadata": {},
   "outputs": [
    {
     "data": {
      "text/plain": [
       "ClassifierChain(classifier=RandomForestClassifier(bootstrap=False,\n",
       "                                                  class_weight=None,\n",
       "                                                  criterion='gini',\n",
       "                                                  max_depth=None,\n",
       "                                                  max_features='auto',\n",
       "                                                  max_leaf_nodes=None,\n",
       "                                                  min_impurity_decrease=0.0,\n",
       "                                                  min_impurity_split=None,\n",
       "                                                  min_samples_leaf=1,\n",
       "                                                  min_samples_split=5,\n",
       "                                                  min_weight_fraction_leaf=0.0,\n",
       "                                                  n_estimators=600, n_jobs=-1,\n",
       "                                                  oob_score=False,\n",
       "                                                  random_state=None, verbose=0,\n",
       "                                                  warm_start=False),\n",
       "                order=None, require_dense=[True, True])"
      ]
     },
     "execution_count": 17,
     "metadata": {},
     "output_type": "execute_result"
    }
   ],
   "source": [
    "classifier_CC.fit(X_train_full,y_train_full)"
   ]
  },
  {
   "cell_type": "code",
   "execution_count": 18,
   "metadata": {},
   "outputs": [],
   "source": [
    "# save the model to disk\n",
    "filename = '../Model/CC_model_full.sav'\n",
    "pickle.dump(classifier_CC, open(filename, 'wb'))"
   ]
  },
  {
   "cell_type": "code",
   "execution_count": 19,
   "metadata": {},
   "outputs": [
    {
     "data": {
      "text/plain": [
       "ClassifierChain(classifier=RandomForestClassifier(bootstrap=False,\n",
       "                                                  class_weight=None,\n",
       "                                                  criterion='gini',\n",
       "                                                  max_depth=None,\n",
       "                                                  max_features='auto',\n",
       "                                                  max_leaf_nodes=None,\n",
       "                                                  min_impurity_decrease=0.0,\n",
       "                                                  min_impurity_split=None,\n",
       "                                                  min_samples_leaf=1,\n",
       "                                                  min_samples_split=5,\n",
       "                                                  min_weight_fraction_leaf=0.0,\n",
       "                                                  n_estimators=600, n_jobs=-1,\n",
       "                                                  oob_score=False,\n",
       "                                                  random_state=None, verbose=0,\n",
       "                                                  warm_start=False),\n",
       "                order=None, require_dense=[True, True])"
      ]
     },
     "execution_count": 19,
     "metadata": {},
     "output_type": "execute_result"
    }
   ],
   "source": [
    "classifier_CC.fit(X_train_nostopword,y_train_nostopword)"
   ]
  },
  {
   "cell_type": "code",
   "execution_count": 20,
   "metadata": {},
   "outputs": [],
   "source": [
    "# save the model to disk\n",
    "filename = '../Model/CC_model_nostopword.sav'\n",
    "pickle.dump(classifier_CC, open(filename, 'wb'))"
   ]
  },
  {
   "cell_type": "code",
   "execution_count": 21,
   "metadata": {},
   "outputs": [
    {
     "data": {
      "text/plain": [
       "ClassifierChain(classifier=RandomForestClassifier(bootstrap=False,\n",
       "                                                  class_weight=None,\n",
       "                                                  criterion='gini',\n",
       "                                                  max_depth=None,\n",
       "                                                  max_features='auto',\n",
       "                                                  max_leaf_nodes=None,\n",
       "                                                  min_impurity_decrease=0.0,\n",
       "                                                  min_impurity_split=None,\n",
       "                                                  min_samples_leaf=1,\n",
       "                                                  min_samples_split=5,\n",
       "                                                  min_weight_fraction_leaf=0.0,\n",
       "                                                  n_estimators=600, n_jobs=-1,\n",
       "                                                  oob_score=False,\n",
       "                                                  random_state=None, verbose=0,\n",
       "                                                  warm_start=False),\n",
       "                order=None, require_dense=[True, True])"
      ]
     },
     "execution_count": 21,
     "metadata": {},
     "output_type": "execute_result"
    }
   ],
   "source": [
    "classifier_CC.fit(X_train_nostemstop,y_train_nostemstop)"
   ]
  },
  {
   "cell_type": "code",
   "execution_count": 22,
   "metadata": {},
   "outputs": [],
   "source": [
    "# save the model to disk\n",
    "filename = '../Model/CC_model_nostemstop.sav'\n",
    "pickle.dump(classifier_CC, open(filename, 'wb'))"
   ]
  },
  {
   "cell_type": "code",
   "execution_count": 23,
   "metadata": {},
   "outputs": [
    {
     "data": {
      "text/plain": [
       "ClassifierChain(classifier=RandomForestClassifier(bootstrap=False,\n",
       "                                                  class_weight=None,\n",
       "                                                  criterion='gini',\n",
       "                                                  max_depth=None,\n",
       "                                                  max_features='auto',\n",
       "                                                  max_leaf_nodes=None,\n",
       "                                                  min_impurity_decrease=0.0,\n",
       "                                                  min_impurity_split=None,\n",
       "                                                  min_samples_leaf=1,\n",
       "                                                  min_samples_split=5,\n",
       "                                                  min_weight_fraction_leaf=0.0,\n",
       "                                                  n_estimators=600, n_jobs=-1,\n",
       "                                                  oob_score=False,\n",
       "                                                  random_state=None, verbose=0,\n",
       "                                                  warm_start=False),\n",
       "                order=None, require_dense=[True, True])"
      ]
     },
     "execution_count": 23,
     "metadata": {},
     "output_type": "execute_result"
    }
   ],
   "source": [
    "classifier_CC.fit(X_train_trans_full,y_train_trans_full)"
   ]
  },
  {
   "cell_type": "code",
   "execution_count": 24,
   "metadata": {},
   "outputs": [],
   "source": [
    "# save the model to disk\n",
    "filename = '../Model/CC_model_trans_full.sav'\n",
    "pickle.dump(classifier_CC, open(filename, 'wb'))"
   ]
  },
  {
   "cell_type": "code",
   "execution_count": 25,
   "metadata": {},
   "outputs": [
    {
     "data": {
      "text/plain": [
       "ClassifierChain(classifier=RandomForestClassifier(bootstrap=False,\n",
       "                                                  class_weight=None,\n",
       "                                                  criterion='gini',\n",
       "                                                  max_depth=None,\n",
       "                                                  max_features='auto',\n",
       "                                                  max_leaf_nodes=None,\n",
       "                                                  min_impurity_decrease=0.0,\n",
       "                                                  min_impurity_split=None,\n",
       "                                                  min_samples_leaf=1,\n",
       "                                                  min_samples_split=5,\n",
       "                                                  min_weight_fraction_leaf=0.0,\n",
       "                                                  n_estimators=600, n_jobs=-1,\n",
       "                                                  oob_score=False,\n",
       "                                                  random_state=None, verbose=0,\n",
       "                                                  warm_start=False),\n",
       "                order=None, require_dense=[True, True])"
      ]
     },
     "execution_count": 25,
     "metadata": {},
     "output_type": "execute_result"
    }
   ],
   "source": [
    "classifier_CC.fit(X_train_trans_nostopword,y_train_trans_nostopword)"
   ]
  },
  {
   "cell_type": "code",
   "execution_count": 26,
   "metadata": {},
   "outputs": [],
   "source": [
    "# save the model to disk\n",
    "filename = '../Model/CC_model_trans_nostopword.sav'\n",
    "pickle.dump(classifier_CC, open(filename, 'wb'))"
   ]
  },
  {
   "cell_type": "code",
   "execution_count": 27,
   "metadata": {},
   "outputs": [
    {
     "data": {
      "text/plain": [
       "ClassifierChain(classifier=RandomForestClassifier(bootstrap=False,\n",
       "                                                  class_weight=None,\n",
       "                                                  criterion='gini',\n",
       "                                                  max_depth=None,\n",
       "                                                  max_features='auto',\n",
       "                                                  max_leaf_nodes=None,\n",
       "                                                  min_impurity_decrease=0.0,\n",
       "                                                  min_impurity_split=None,\n",
       "                                                  min_samples_leaf=1,\n",
       "                                                  min_samples_split=5,\n",
       "                                                  min_weight_fraction_leaf=0.0,\n",
       "                                                  n_estimators=600, n_jobs=-1,\n",
       "                                                  oob_score=False,\n",
       "                                                  random_state=None, verbose=0,\n",
       "                                                  warm_start=False),\n",
       "                order=None, require_dense=[True, True])"
      ]
     },
     "execution_count": 27,
     "metadata": {},
     "output_type": "execute_result"
    }
   ],
   "source": [
    "classifier_CC.fit(X_train_trans_nostemstop,y_train_trans_nostemstop)"
   ]
  },
  {
   "cell_type": "code",
   "execution_count": 28,
   "metadata": {},
   "outputs": [],
   "source": [
    "# save the model to disk\n",
    "filename = '../Model/CC_model_trans_nostemstop.sav'\n",
    "pickle.dump(classifier_CC, open(filename, 'wb'))"
   ]
  },
  {
   "cell_type": "markdown",
   "metadata": {},
   "source": [
    "**3. Label Powerset**"
   ]
  },
  {
   "cell_type": "code",
   "execution_count": 12,
   "metadata": {},
   "outputs": [
    {
     "data": {
      "text/plain": [
       "LabelPowerset(classifier=RandomForestClassifier(bootstrap=False,\n",
       "                                                class_weight=None,\n",
       "                                                criterion='gini',\n",
       "                                                max_depth=None,\n",
       "                                                max_features='auto',\n",
       "                                                max_leaf_nodes=None,\n",
       "                                                min_impurity_decrease=0.0,\n",
       "                                                min_impurity_split=None,\n",
       "                                                min_samples_leaf=1,\n",
       "                                                min_samples_split=10,\n",
       "                                                min_weight_fraction_leaf=0.0,\n",
       "                                                n_estimators=800, n_jobs=-1,\n",
       "                                                oob_score=False,\n",
       "                                                random_state=None, verbose=0,\n",
       "                                                warm_start=False),\n",
       "              require_dense=[True, True])"
      ]
     },
     "execution_count": 12,
     "metadata": {},
     "output_type": "execute_result"
    }
   ],
   "source": [
    "classifier_LP.fit(X_train_full,y_train_full)"
   ]
  },
  {
   "cell_type": "code",
   "execution_count": 13,
   "metadata": {},
   "outputs": [],
   "source": [
    "# save the model to disk\n",
    "filename = '../Model/LP_model_full.sav'\n",
    "pickle.dump(classifier_LP, open(filename, 'wb'))"
   ]
  },
  {
   "cell_type": "code",
   "execution_count": 14,
   "metadata": {},
   "outputs": [
    {
     "data": {
      "text/plain": [
       "LabelPowerset(classifier=RandomForestClassifier(bootstrap=False,\n",
       "                                                class_weight=None,\n",
       "                                                criterion='gini',\n",
       "                                                max_depth=None,\n",
       "                                                max_features='auto',\n",
       "                                                max_leaf_nodes=None,\n",
       "                                                min_impurity_decrease=0.0,\n",
       "                                                min_impurity_split=None,\n",
       "                                                min_samples_leaf=1,\n",
       "                                                min_samples_split=10,\n",
       "                                                min_weight_fraction_leaf=0.0,\n",
       "                                                n_estimators=800, n_jobs=-1,\n",
       "                                                oob_score=False,\n",
       "                                                random_state=None, verbose=0,\n",
       "                                                warm_start=False),\n",
       "              require_dense=[True, True])"
      ]
     },
     "execution_count": 14,
     "metadata": {},
     "output_type": "execute_result"
    }
   ],
   "source": [
    "classifier_LP.fit(X_train_nostopword,y_train_nostopword)"
   ]
  },
  {
   "cell_type": "code",
   "execution_count": 15,
   "metadata": {},
   "outputs": [],
   "source": [
    "# save the model to disk\n",
    "filename = '../Model/LP_model_nostopword.sav'\n",
    "pickle.dump(classifier_LP, open(filename, 'wb'))"
   ]
  },
  {
   "cell_type": "code",
   "execution_count": 16,
   "metadata": {},
   "outputs": [
    {
     "data": {
      "text/plain": [
       "LabelPowerset(classifier=RandomForestClassifier(bootstrap=False,\n",
       "                                                class_weight=None,\n",
       "                                                criterion='gini',\n",
       "                                                max_depth=None,\n",
       "                                                max_features='auto',\n",
       "                                                max_leaf_nodes=None,\n",
       "                                                min_impurity_decrease=0.0,\n",
       "                                                min_impurity_split=None,\n",
       "                                                min_samples_leaf=1,\n",
       "                                                min_samples_split=10,\n",
       "                                                min_weight_fraction_leaf=0.0,\n",
       "                                                n_estimators=800, n_jobs=-1,\n",
       "                                                oob_score=False,\n",
       "                                                random_state=None, verbose=0,\n",
       "                                                warm_start=False),\n",
       "              require_dense=[True, True])"
      ]
     },
     "execution_count": 16,
     "metadata": {},
     "output_type": "execute_result"
    }
   ],
   "source": [
    "classifier_LP.fit(X_train_nostemstop,y_train_nostemstop)"
   ]
  },
  {
   "cell_type": "code",
   "execution_count": 17,
   "metadata": {},
   "outputs": [],
   "source": [
    "# save the model to disk\n",
    "filename = '../Model/LP_model_nostemstop.sav'\n",
    "pickle.dump(classifier_LP, open(filename, 'wb'))"
   ]
  },
  {
   "cell_type": "code",
   "execution_count": 18,
   "metadata": {},
   "outputs": [
    {
     "data": {
      "text/plain": [
       "LabelPowerset(classifier=RandomForestClassifier(bootstrap=False,\n",
       "                                                class_weight=None,\n",
       "                                                criterion='gini',\n",
       "                                                max_depth=None,\n",
       "                                                max_features='auto',\n",
       "                                                max_leaf_nodes=None,\n",
       "                                                min_impurity_decrease=0.0,\n",
       "                                                min_impurity_split=None,\n",
       "                                                min_samples_leaf=1,\n",
       "                                                min_samples_split=10,\n",
       "                                                min_weight_fraction_leaf=0.0,\n",
       "                                                n_estimators=800, n_jobs=-1,\n",
       "                                                oob_score=False,\n",
       "                                                random_state=None, verbose=0,\n",
       "                                                warm_start=False),\n",
       "              require_dense=[True, True])"
      ]
     },
     "execution_count": 18,
     "metadata": {},
     "output_type": "execute_result"
    }
   ],
   "source": [
    "classifier_LP.fit(X_train_trans_full,y_train_trans_full)"
   ]
  },
  {
   "cell_type": "code",
   "execution_count": 19,
   "metadata": {},
   "outputs": [],
   "source": [
    "# save the model to disk\n",
    "filename = '../Model/LP_model_trans_full.sav'\n",
    "pickle.dump(classifier_LP, open(filename, 'wb'))"
   ]
  },
  {
   "cell_type": "code",
   "execution_count": 20,
   "metadata": {},
   "outputs": [
    {
     "data": {
      "text/plain": [
       "LabelPowerset(classifier=RandomForestClassifier(bootstrap=False,\n",
       "                                                class_weight=None,\n",
       "                                                criterion='gini',\n",
       "                                                max_depth=None,\n",
       "                                                max_features='auto',\n",
       "                                                max_leaf_nodes=None,\n",
       "                                                min_impurity_decrease=0.0,\n",
       "                                                min_impurity_split=None,\n",
       "                                                min_samples_leaf=1,\n",
       "                                                min_samples_split=10,\n",
       "                                                min_weight_fraction_leaf=0.0,\n",
       "                                                n_estimators=800, n_jobs=-1,\n",
       "                                                oob_score=False,\n",
       "                                                random_state=None, verbose=0,\n",
       "                                                warm_start=False),\n",
       "              require_dense=[True, True])"
      ]
     },
     "execution_count": 20,
     "metadata": {},
     "output_type": "execute_result"
    }
   ],
   "source": [
    "classifier_LP.fit(X_train_trans_nostopword,y_train_trans_nostopword)"
   ]
  },
  {
   "cell_type": "code",
   "execution_count": 21,
   "metadata": {},
   "outputs": [],
   "source": [
    "# save the model to disk\n",
    "filename = '../Model/LP_model_trans_nostopword.sav'\n",
    "pickle.dump(classifier_LP, open(filename, 'wb'))"
   ]
  },
  {
   "cell_type": "code",
   "execution_count": 22,
   "metadata": {},
   "outputs": [
    {
     "data": {
      "text/plain": [
       "LabelPowerset(classifier=RandomForestClassifier(bootstrap=False,\n",
       "                                                class_weight=None,\n",
       "                                                criterion='gini',\n",
       "                                                max_depth=None,\n",
       "                                                max_features='auto',\n",
       "                                                max_leaf_nodes=None,\n",
       "                                                min_impurity_decrease=0.0,\n",
       "                                                min_impurity_split=None,\n",
       "                                                min_samples_leaf=1,\n",
       "                                                min_samples_split=10,\n",
       "                                                min_weight_fraction_leaf=0.0,\n",
       "                                                n_estimators=800, n_jobs=-1,\n",
       "                                                oob_score=False,\n",
       "                                                random_state=None, verbose=0,\n",
       "                                                warm_start=False),\n",
       "              require_dense=[True, True])"
      ]
     },
     "execution_count": 22,
     "metadata": {},
     "output_type": "execute_result"
    }
   ],
   "source": [
    "classifier_LP.fit(X_train_trans_nostemstop,y_train_trans_nostemstop)"
   ]
  },
  {
   "cell_type": "code",
   "execution_count": 23,
   "metadata": {},
   "outputs": [],
   "source": [
    "# save the model to disk\n",
    "filename = '../Model/LP_model_trans_nostemstop.sav'\n",
    "pickle.dump(classifier_LP, open(filename, 'wb'))"
   ]
  },
  {
   "cell_type": "code",
   "execution_count": null,
   "metadata": {},
   "outputs": [],
   "source": []
  }
 ],
 "metadata": {
  "kernelspec": {
   "display_name": "Python 3",
   "language": "python",
   "name": "python3"
  },
  "language_info": {
   "codemirror_mode": {
    "name": "ipython",
    "version": 3
   },
   "file_extension": ".py",
   "mimetype": "text/x-python",
   "name": "python",
   "nbconvert_exporter": "python",
   "pygments_lexer": "ipython3",
   "version": "3.7.3"
  }
 },
 "nbformat": 4,
 "nbformat_minor": 2
}
