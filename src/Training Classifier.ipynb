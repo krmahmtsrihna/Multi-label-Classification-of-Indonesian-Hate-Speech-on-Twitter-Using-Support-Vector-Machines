{
 "cells": [
  {
   "cell_type": "markdown",
   "metadata": {},
   "source": [
    "# Validation and Training"
   ]
  },
  {
   "cell_type": "markdown",
   "metadata": {},
   "source": [
    "## Import Packages and Dataset"
   ]
  },
  {
   "cell_type": "code",
   "execution_count": 1,
   "metadata": {},
   "outputs": [],
   "source": [
    "import pandas as pd\n",
    "import numpy as np\n",
    "import matplotlib.pyplot as plt\n",
    "import seaborn as sns\n",
    "\n",
    "import math\n",
    "from sklearn.svm import SVC\n",
    "from sklearn.model_selection import RandomizedSearchCV\n",
    "from sklearn.model_selection import GridSearchCV\n",
    "from sklearn.metrics import classification_report, confusion_matrix,accuracy_score,hamming_loss\n",
    "from sklearn.model_selection import ShuffleSplit\n",
    "\n",
    "from skmultilearn.problem_transform import BinaryRelevance\n",
    "from skmultilearn.problem_transform import ClassifierChain\n",
    "from skmultilearn.problem_transform import LabelPowerset\n",
    "\n",
    "import pickle\n",
    "\n",
    "import warnings\n",
    "warnings.filterwarnings('ignore')"
   ]
  },
  {
   "cell_type": "code",
   "execution_count": 2,
   "metadata": {},
   "outputs": [],
   "source": [
    "data_train_full = pd.read_csv(\"../Data/Data_train_full_tfidf.csv\")\n",
    "data_train_nostopword = pd.read_csv(\"../Data/Data_train_nostopword_tfidf.csv\")\n",
    "data_train_nostemstop = pd.read_csv(\"../Data/Data_train_nostemstop_tfidf.csv\")"
   ]
  },
  {
   "cell_type": "code",
   "execution_count": 3,
   "metadata": {},
   "outputs": [],
   "source": [
    "data_train_trans_full = pd.read_csv(\"../Data/Data_train_trans_full_tfidf.csv\")\n",
    "data_train_trans_nostopword = pd.read_csv(\"../Data/Data_train_trans_nostopword_tfidf.csv\")\n",
    "data_train_trans_nostemstop = pd.read_csv(\"../Data/Data_train_trans_nostemstop_tfidf.csv\")"
   ]
  },
  {
   "cell_type": "markdown",
   "metadata": {},
   "source": [
    "## Features Target Split"
   ]
  },
  {
   "cell_type": "code",
   "execution_count": 4,
   "metadata": {},
   "outputs": [],
   "source": [
    "X_train_full = data_train_full.drop(['HS','Abusive','HS_Individual','HS_Group','HS_Religion','HS_Race','HS_Physical','HS_Gender','HS_Other','HS_Weak','HS_Moderate','HS_Strong'],axis=1)\n",
    "y_train_full = data_train_full[['HS','Abusive','HS_Individual','HS_Group','HS_Religion','HS_Race','HS_Physical','HS_Gender','HS_Other','HS_Weak','HS_Moderate','HS_Strong']]\n",
    "\n",
    "X_train_nostopword = data_train_nostopword.drop(['HS','Abusive','HS_Individual','HS_Group','HS_Religion','HS_Race','HS_Physical','HS_Gender','HS_Other','HS_Weak','HS_Moderate','HS_Strong'],axis=1)\n",
    "y_train_nostopword = data_train_nostopword[['HS','Abusive','HS_Individual','HS_Group','HS_Religion','HS_Race','HS_Physical','HS_Gender','HS_Other','HS_Weak','HS_Moderate','HS_Strong']]\n",
    "\n",
    "X_train_nostemstop = data_train_nostemstop.drop(['HS','Abusive','HS_Individual','HS_Group','HS_Religion','HS_Race','HS_Physical','HS_Gender','HS_Other','HS_Weak','HS_Moderate','HS_Strong'],axis=1)\n",
    "y_train_nostemstop = data_train_nostemstop[['HS','Abusive','HS_Individual','HS_Group','HS_Religion','HS_Race','HS_Physical','HS_Gender','HS_Other','HS_Weak','HS_Moderate','HS_Strong']]"
   ]
  },
  {
   "cell_type": "code",
   "execution_count": 5,
   "metadata": {},
   "outputs": [],
   "source": [
    "X_train_trans_full = data_train_trans_full.drop(['HS','Abusive','HS_Individual','HS_Group','HS_Religion','HS_Race','HS_Physical','HS_Gender','HS_Other','HS_Weak','HS_Moderate','HS_Strong'],axis=1)\n",
    "y_train_trans_full = data_train_trans_full[['HS','Abusive','HS_Individual','HS_Group','HS_Religion','HS_Race','HS_Physical','HS_Gender','HS_Other','HS_Weak','HS_Moderate','HS_Strong']]\n",
    "\n",
    "X_train_trans_nostopword = data_train_trans_nostopword.drop(['HS','Abusive','HS_Individual','HS_Group','HS_Religion','HS_Race','HS_Physical','HS_Gender','HS_Other','HS_Weak','HS_Moderate','HS_Strong'],axis=1)\n",
    "y_train_trans_nostopword = data_train_trans_nostopword[['HS','Abusive','HS_Individual','HS_Group','HS_Religion','HS_Race','HS_Physical','HS_Gender','HS_Other','HS_Weak','HS_Moderate','HS_Strong']]\n",
    "\n",
    "X_train_trans_nostemstop = data_train_trans_nostemstop.drop(['HS','Abusive','HS_Individual','HS_Group','HS_Religion','HS_Race','HS_Physical','HS_Gender','HS_Other','HS_Weak','HS_Moderate','HS_Strong'],axis=1)\n",
    "y_train_trans_nostemstop = data_train_trans_nostemstop[['HS','Abusive','HS_Individual','HS_Group','HS_Religion','HS_Race','HS_Physical','HS_Gender','HS_Other','HS_Weak','HS_Moderate','HS_Strong']]"
   ]
  },
  {
   "cell_type": "markdown",
   "metadata": {},
   "source": [
    "## Cross-Validation for Hyperparameter Tuning"
   ]
  },
  {
   "cell_type": "markdown",
   "metadata": {},
   "source": [
    "**1. Classifier Chains**"
   ]
  },
  {
   "cell_type": "code",
   "execution_count": 6,
   "metadata": {},
   "outputs": [],
   "source": [
    "classifier_CC = ClassifierChain(SVC())"
   ]
  },
  {
   "cell_type": "markdown",
   "metadata": {},
   "source": [
    "**2. Label Powerset**"
   ]
  },
  {
   "cell_type": "code",
   "execution_count": 7,
   "metadata": {},
   "outputs": [],
   "source": [
    "classifier_LP = LabelPowerset(SVC())"
   ]
  },
  {
   "cell_type": "markdown",
   "metadata": {},
   "source": [
    "### Random Search Cross Validation"
   ]
  },
  {
   "cell_type": "code",
   "execution_count": 8,
   "metadata": {},
   "outputs": [],
   "source": [
    "random_grid = {'classifier__C': [.01, .1, 1, 10, 100],\n",
    "                'classifier__kernel': ['linear', 'rbf', 'poly','sigmoid'],\n",
    "                'classifier__gamma': [.0001, .001, .01, .1, 1, 10, 100]\n",
    "            }"
   ]
  },
  {
   "cell_type": "markdown",
   "metadata": {},
   "source": [
    "**1. Classifier Chains**"
   ]
  },
  {
   "cell_type": "code",
   "execution_count": 9,
   "metadata": {},
   "outputs": [],
   "source": [
    "cv_sets = ShuffleSplit(n_splits = 1, test_size = 0.10, random_state = 8)\n",
    "\n",
    "random_search_CC = RandomizedSearchCV(estimator=classifier_CC,\n",
    "                                   param_distributions=random_grid,\n",
    "                                   n_iter=10,\n",
    "                                   scoring=None,\n",
    "                                   cv=cv_sets, \n",
    "                                   verbose=15,\n",
    "                                   n_jobs = -1)"
   ]
  },
  {
   "cell_type": "code",
   "execution_count": 10,
   "metadata": {},
   "outputs": [
    {
     "name": "stdout",
     "output_type": "stream",
     "text": [
      "Fitting 1 folds for each of 10 candidates, totalling 10 fits\n"
     ]
    },
    {
     "name": "stderr",
     "output_type": "stream",
     "text": [
      "[Parallel(n_jobs=-1)]: Using backend LokyBackend with 4 concurrent workers.\n",
      "[Parallel(n_jobs=-1)]: Done   1 tasks      | elapsed: 68.4min\n",
      "[Parallel(n_jobs=-1)]: Done   2 tasks      | elapsed: 71.6min\n",
      "[Parallel(n_jobs=-1)]: Done   3 tasks      | elapsed: 96.8min\n",
      "[Parallel(n_jobs=-1)]: Done   4 out of  10 | elapsed: 102.9min remaining: 154.4min\n",
      "[Parallel(n_jobs=-1)]: Done   5 out of  10 | elapsed: 150.3min remaining: 150.3min\n",
      "[Parallel(n_jobs=-1)]: Done   6 out of  10 | elapsed: 164.5min remaining: 109.6min\n",
      "[Parallel(n_jobs=-1)]: Done   7 out of  10 | elapsed: 178.8min remaining: 76.6min\n",
      "[Parallel(n_jobs=-1)]: Done   8 out of  10 | elapsed: 191.4min remaining: 47.8min\n",
      "[Parallel(n_jobs=-1)]: Done  10 out of  10 | elapsed: 227.3min remaining:    0.0s\n",
      "[Parallel(n_jobs=-1)]: Done  10 out of  10 | elapsed: 227.3min finished\n"
     ]
    },
    {
     "data": {
      "text/plain": [
       "RandomizedSearchCV(cv=ShuffleSplit(n_splits=1, random_state=8, test_size=0.1, train_size=None),\n",
       "                   error_score='raise-deprecating',\n",
       "                   estimator=ClassifierChain(classifier=SVC(C=1.0,\n",
       "                                                            cache_size=200,\n",
       "                                                            class_weight=None,\n",
       "                                                            coef0=0.0,\n",
       "                                                            decision_function_shape='ovr',\n",
       "                                                            degree=3,\n",
       "                                                            gamma='auto_deprecated',\n",
       "                                                            kernel='rbf',\n",
       "                                                            max_iter=-1,\n",
       "                                                            probability=False,\n",
       "                                                            random_state=None,\n",
       "                                                            shrinking=Tr...\n",
       "                                                            verbose=False),\n",
       "                                             order=None,\n",
       "                                             require_dense=[True, True]),\n",
       "                   iid='warn', n_iter=10, n_jobs=-1,\n",
       "                   param_distributions={'classifier__C': [0.01, 0.1, 1, 10,\n",
       "                                                          100],\n",
       "                                        'classifier__gamma': [0.0001, 0.001,\n",
       "                                                              0.01, 0.1, 1, 10,\n",
       "                                                              100],\n",
       "                                        'classifier__kernel': ['linear', 'rbf',\n",
       "                                                               'poly',\n",
       "                                                               'sigmoid']},\n",
       "                   pre_dispatch='2*n_jobs', random_state=None, refit=True,\n",
       "                   return_train_score=False, scoring=None, verbose=15)"
      ]
     },
     "execution_count": 10,
     "metadata": {},
     "output_type": "execute_result"
    }
   ],
   "source": [
    "random_search_CC.fit(X_train_full, y_train_full)"
   ]
  },
  {
   "cell_type": "code",
   "execution_count": 11,
   "metadata": {},
   "outputs": [
    {
     "name": "stdout",
     "output_type": "stream",
     "text": [
      "Best Params :  {'classifier__kernel': 'rbf', 'classifier__gamma': 0.1, 'classifier__C': 1}\n",
      "\n",
      "0.402 (+/-0.000) for {'classifier__kernel': 'sigmoid', 'classifier__gamma': 0.01, 'classifier__C': 0.1}\n",
      "0.402 (+/-0.000) for {'classifier__kernel': 'rbf', 'classifier__gamma': 0.01, 'classifier__C': 0.01}\n",
      "0.626 (+/-0.000) for {'classifier__kernel': 'rbf', 'classifier__gamma': 0.1, 'classifier__C': 1}\n",
      "0.266 (+/-0.000) for {'classifier__kernel': 'sigmoid', 'classifier__gamma': 10, 'classifier__C': 0.1}\n",
      "0.402 (+/-0.000) for {'classifier__kernel': 'sigmoid', 'classifier__gamma': 0.1, 'classifier__C': 0.01}\n",
      "0.418 (+/-0.000) for {'classifier__kernel': 'rbf', 'classifier__gamma': 0.1, 'classifier__C': 0.1}\n",
      "0.402 (+/-0.000) for {'classifier__kernel': 'rbf', 'classifier__gamma': 1, 'classifier__C': 0.01}\n",
      "0.406 (+/-0.000) for {'classifier__kernel': 'linear', 'classifier__gamma': 0.1, 'classifier__C': 0.01}\n",
      "0.594 (+/-0.000) for {'classifier__kernel': 'linear', 'classifier__gamma': 0.0001, 'classifier__C': 10}\n",
      "0.402 (+/-0.000) for {'classifier__kernel': 'poly', 'classifier__gamma': 0.1, 'classifier__C': 1}\n"
     ]
    }
   ],
   "source": [
    "print(\"Best Params : \",random_search_CC.best_params_)\n",
    "print()\n",
    "means = random_search_CC.cv_results_['mean_test_score']\n",
    "stds = random_search_CC.cv_results_['std_test_score']\n",
    "\n",
    "for mean, std, params in zip(means, stds, random_search_CC.cv_results_['params']):\n",
    "        print(\"%0.3f (+/-%0.03f) for %r\"\n",
    "              % (mean, std * 2, params))"
   ]
  },
  {
   "cell_type": "markdown",
   "metadata": {},
   "source": [
    "**2. Label Powerset**"
   ]
  },
  {
   "cell_type": "code",
   "execution_count": 12,
   "metadata": {},
   "outputs": [],
   "source": [
    "cv_sets = ShuffleSplit(n_splits = 1, test_size = 0.10, random_state = 8)\n",
    "\n",
    "random_search_LP = RandomizedSearchCV(estimator=classifier_LP,\n",
    "                                   param_distributions=random_grid,\n",
    "                                   n_iter=10,\n",
    "                                   scoring=None,\n",
    "                                   cv=cv_sets, \n",
    "                                   verbose=15,\n",
    "                                   n_jobs = -1)"
   ]
  },
  {
   "cell_type": "code",
   "execution_count": 13,
   "metadata": {},
   "outputs": [
    {
     "name": "stdout",
     "output_type": "stream",
     "text": [
      "Fitting 1 folds for each of 10 candidates, totalling 10 fits\n"
     ]
    },
    {
     "name": "stderr",
     "output_type": "stream",
     "text": [
      "[Parallel(n_jobs=-1)]: Using backend LokyBackend with 4 concurrent workers.\n",
      "[Parallel(n_jobs=-1)]: Done   1 tasks      | elapsed: 34.9min\n",
      "[Parallel(n_jobs=-1)]: Done   2 tasks      | elapsed: 34.9min\n",
      "[Parallel(n_jobs=-1)]: Done   3 tasks      | elapsed: 35.8min\n",
      "[Parallel(n_jobs=-1)]: Done   4 out of  10 | elapsed: 143.0min remaining: 214.6min\n",
      "[Parallel(n_jobs=-1)]: Done   5 out of  10 | elapsed: 166.1min remaining: 166.1min\n",
      "[Parallel(n_jobs=-1)]: Done   6 out of  10 | elapsed: 173.0min remaining: 115.3min\n",
      "[Parallel(n_jobs=-1)]: Done   7 out of  10 | elapsed: 175.6min remaining: 75.2min\n",
      "[Parallel(n_jobs=-1)]: Done   8 out of  10 | elapsed: 176.0min remaining: 44.0min\n",
      "[Parallel(n_jobs=-1)]: Done  10 out of  10 | elapsed: 191.8min remaining:    0.0s\n",
      "[Parallel(n_jobs=-1)]: Done  10 out of  10 | elapsed: 191.8min finished\n"
     ]
    },
    {
     "data": {
      "text/plain": [
       "RandomizedSearchCV(cv=ShuffleSplit(n_splits=1, random_state=8, test_size=0.1, train_size=None),\n",
       "                   error_score='raise-deprecating',\n",
       "                   estimator=LabelPowerset(classifier=SVC(C=1.0, cache_size=200,\n",
       "                                                          class_weight=None,\n",
       "                                                          coef0=0.0,\n",
       "                                                          decision_function_shape='ovr',\n",
       "                                                          degree=3,\n",
       "                                                          gamma='auto_deprecated',\n",
       "                                                          kernel='rbf',\n",
       "                                                          max_iter=-1,\n",
       "                                                          probability=False,\n",
       "                                                          random_state=None,\n",
       "                                                          shrinking=True,\n",
       "                                                          tol=0.001,\n",
       "                                                          verbose=False),\n",
       "                                           require_dense=[True, True]),\n",
       "                   iid='warn', n_iter=10, n_jobs=-1,\n",
       "                   param_distributions={'classifier__C': [0.01, 0.1, 1, 10,\n",
       "                                                          100],\n",
       "                                        'classifier__gamma': [0.0001, 0.001,\n",
       "                                                              0.01, 0.1, 1, 10,\n",
       "                                                              100],\n",
       "                                        'classifier__kernel': ['linear', 'rbf',\n",
       "                                                               'poly',\n",
       "                                                               'sigmoid']},\n",
       "                   pre_dispatch='2*n_jobs', random_state=None, refit=True,\n",
       "                   return_train_score=False, scoring=None, verbose=15)"
      ]
     },
     "execution_count": 13,
     "metadata": {},
     "output_type": "execute_result"
    }
   ],
   "source": [
    "random_search_LP.fit(X_train_full, y_train_full)"
   ]
  },
  {
   "cell_type": "code",
   "execution_count": 15,
   "metadata": {},
   "outputs": [
    {
     "name": "stdout",
     "output_type": "stream",
     "text": [
      "Best Params :  {'classifier__kernel': 'rbf', 'classifier__gamma': 0.1, 'classifier__C': 1}\n",
      "\n",
      "0.580 (+/-0.000) for {'classifier__kernel': 'rbf', 'classifier__gamma': 0.1, 'classifier__C': 1}\n",
      "0.510 (+/-0.000) for {'classifier__kernel': 'poly', 'classifier__gamma': 100, 'classifier__C': 0.1}\n",
      "0.520 (+/-0.000) for {'classifier__kernel': 'linear', 'classifier__gamma': 10, 'classifier__C': 0.1}\n",
      "0.520 (+/-0.000) for {'classifier__kernel': 'linear', 'classifier__gamma': 0.0001, 'classifier__C': 0.1}\n",
      "0.524 (+/-0.000) for {'classifier__kernel': 'poly', 'classifier__gamma': 10, 'classifier__C': 0.1}\n",
      "0.510 (+/-0.000) for {'classifier__kernel': 'poly', 'classifier__gamma': 100, 'classifier__C': 10}\n",
      "0.510 (+/-0.000) for {'classifier__kernel': 'poly', 'classifier__gamma': 100, 'classifier__C': 100}\n",
      "0.402 (+/-0.000) for {'classifier__kernel': 'rbf', 'classifier__gamma': 0.0001, 'classifier__C': 0.1}\n",
      "0.402 (+/-0.000) for {'classifier__kernel': 'poly', 'classifier__gamma': 0.01, 'classifier__C': 100}\n",
      "0.403 (+/-0.000) for {'classifier__kernel': 'linear', 'classifier__gamma': 0.001, 'classifier__C': 0.01}\n"
     ]
    }
   ],
   "source": [
    "print(\"Best Params : \",random_search_LP.best_params_)\n",
    "print()\n",
    "means = random_search_LP.cv_results_['mean_test_score']\n",
    "stds = random_search_LP.cv_results_['std_test_score']\n",
    "\n",
    "for mean, std, params in zip(means, stds, random_search_LP.cv_results_['params']):\n",
    "        print(\"%0.3f (+/-%0.03f) for %r\"\n",
    "              % (mean, std * 2, params))"
   ]
  },
  {
   "cell_type": "code",
   "execution_count": null,
   "metadata": {},
   "outputs": [],
   "source": [
    "# classifier_BR.get_params().keys()"
   ]
  },
  {
   "cell_type": "markdown",
   "metadata": {},
   "source": [
    "### Grid Search Cross Validation"
   ]
  },
  {
   "cell_type": "raw",
   "metadata": {},
   "source": [
    "Best Params :  {'classifier__kernel': 'rbf', 'classifier__gamma': 0.1, 'classifier__C': 1}\n",
    "\n",
    "{'classifier__kernel': 'rbf', 'classifier__gamma': 0.1, 'classifier__C': 1}"
   ]
  },
  {
   "cell_type": "code",
   "execution_count": 16,
   "metadata": {},
   "outputs": [],
   "source": [
    "param_grid_CC = {'classifier__C': [0.01, 0.1, 1, 10, 100],\n",
    "             'classifier__gamma': [0.1],\n",
    "             'classifier__kernel': ['rbf']\n",
    "                }\n",
    "\n",
    "param_grid_LP = {'classifier__C': [0.01, 0.1, 1, 10, 100],\n",
    "             'classifier__gamma': [0.1],\n",
    "             'classifier__kernel': ['rbf']\n",
    "                }"
   ]
  },
  {
   "cell_type": "markdown",
   "metadata": {},
   "source": [
    "**1. Classifier Chains**"
   ]
  },
  {
   "cell_type": "code",
   "execution_count": 17,
   "metadata": {},
   "outputs": [
    {
     "name": "stdout",
     "output_type": "stream",
     "text": [
      "Fitting 1 folds for each of 5 candidates, totalling 5 fits\n"
     ]
    },
    {
     "name": "stderr",
     "output_type": "stream",
     "text": [
      "[Parallel(n_jobs=-1)]: Using backend LokyBackend with 4 concurrent workers.\n",
      "[Parallel(n_jobs=-1)]: Done   1 tasks      | elapsed: 55.6min\n",
      "[Parallel(n_jobs=-1)]: Done   2 out of   5 | elapsed: 67.0min remaining: 100.5min\n",
      "[Parallel(n_jobs=-1)]: Done   3 out of   5 | elapsed: 76.1min remaining: 50.7min\n",
      "[Parallel(n_jobs=-1)]: Done   5 out of   5 | elapsed: 104.0min remaining:    0.0s\n",
      "[Parallel(n_jobs=-1)]: Done   5 out of   5 | elapsed: 104.0min finished\n"
     ]
    },
    {
     "data": {
      "text/plain": [
       "GridSearchCV(cv=ShuffleSplit(n_splits=1, random_state=8, test_size=0.1, train_size=None),\n",
       "             error_score='raise-deprecating',\n",
       "             estimator=ClassifierChain(classifier=SVC(C=1.0, cache_size=200,\n",
       "                                                      class_weight=None,\n",
       "                                                      coef0=0.0,\n",
       "                                                      decision_function_shape='ovr',\n",
       "                                                      degree=3,\n",
       "                                                      gamma='auto_deprecated',\n",
       "                                                      kernel='rbf', max_iter=-1,\n",
       "                                                      probability=False,\n",
       "                                                      random_state=None,\n",
       "                                                      shrinking=True, tol=0.001,\n",
       "                                                      verbose=False),\n",
       "                                       order=None, require_dense=[True, True]),\n",
       "             iid='warn', n_jobs=-1,\n",
       "             param_grid={'classifier__C': [0.01, 0.1, 1, 10, 100],\n",
       "                         'classifier__gamma': [0.1],\n",
       "                         'classifier__kernel': ['rbf']},\n",
       "             pre_dispatch='2*n_jobs', refit=True, return_train_score=False,\n",
       "             scoring=None, verbose=15)"
      ]
     },
     "execution_count": 17,
     "metadata": {},
     "output_type": "execute_result"
    }
   ],
   "source": [
    "cv_sets = ShuffleSplit(n_splits = 1, test_size = .10, random_state = 8)\n",
    "\n",
    "grid_search_CC = GridSearchCV(estimator=classifier_CC, \n",
    "                           param_grid=param_grid_CC,\n",
    "                           cv=cv_sets,\n",
    "                           n_jobs = -1,\n",
    "                           verbose=15)\n",
    "\n",
    "grid_search_CC.fit(X_train_full,y_train_full)"
   ]
  },
  {
   "cell_type": "code",
   "execution_count": 18,
   "metadata": {},
   "outputs": [
    {
     "name": "stdout",
     "output_type": "stream",
     "text": [
      "Best Params :  {'classifier__C': 10, 'classifier__gamma': 0.1, 'classifier__kernel': 'rbf'}\n",
      "\n",
      "0.402 (+/-0.000) for {'classifier__C': 0.01, 'classifier__gamma': 0.1, 'classifier__kernel': 'rbf'}\n",
      "0.418 (+/-0.000) for {'classifier__C': 0.1, 'classifier__gamma': 0.1, 'classifier__kernel': 'rbf'}\n",
      "0.626 (+/-0.000) for {'classifier__C': 1, 'classifier__gamma': 0.1, 'classifier__kernel': 'rbf'}\n",
      "0.658 (+/-0.000) for {'classifier__C': 10, 'classifier__gamma': 0.1, 'classifier__kernel': 'rbf'}\n",
      "0.604 (+/-0.000) for {'classifier__C': 100, 'classifier__gamma': 0.1, 'classifier__kernel': 'rbf'}\n"
     ]
    }
   ],
   "source": [
    "print(\"Best Params : \",grid_search_CC.best_params_)\n",
    "print()\n",
    "means = grid_search_CC.cv_results_['mean_test_score']\n",
    "stds = grid_search_CC.cv_results_['std_test_score']\n",
    "\n",
    "for mean, std, params in zip(means, stds, grid_search_CC.cv_results_['params']):\n",
    "        print(\"%0.3f (+/-%0.03f) for %r\"\n",
    "              % (mean, std * 2, params))"
   ]
  },
  {
   "cell_type": "markdown",
   "metadata": {},
   "source": [
    "**2. Label Powerset**"
   ]
  },
  {
   "cell_type": "code",
   "execution_count": 19,
   "metadata": {},
   "outputs": [
    {
     "name": "stdout",
     "output_type": "stream",
     "text": [
      "Fitting 1 folds for each of 5 candidates, totalling 5 fits\n"
     ]
    },
    {
     "name": "stderr",
     "output_type": "stream",
     "text": [
      "[Parallel(n_jobs=-1)]: Using backend LokyBackend with 4 concurrent workers.\n",
      "[Parallel(n_jobs=-1)]: Done   1 tasks      | elapsed: 27.4min\n",
      "[Parallel(n_jobs=-1)]: Done   2 out of   5 | elapsed: 32.9min remaining: 49.3min\n",
      "[Parallel(n_jobs=-1)]: Done   3 out of   5 | elapsed: 34.3min remaining: 22.8min\n",
      "[Parallel(n_jobs=-1)]: Done   5 out of   5 | elapsed: 46.9min remaining:    0.0s\n",
      "[Parallel(n_jobs=-1)]: Done   5 out of   5 | elapsed: 46.9min finished\n"
     ]
    },
    {
     "data": {
      "text/plain": [
       "GridSearchCV(cv=ShuffleSplit(n_splits=1, random_state=8, test_size=0.1, train_size=None),\n",
       "             error_score='raise-deprecating',\n",
       "             estimator=LabelPowerset(classifier=SVC(C=1.0, cache_size=200,\n",
       "                                                    class_weight=None,\n",
       "                                                    coef0=0.0,\n",
       "                                                    decision_function_shape='ovr',\n",
       "                                                    degree=3,\n",
       "                                                    gamma='auto_deprecated',\n",
       "                                                    kernel='rbf', max_iter=-1,\n",
       "                                                    probability=False,\n",
       "                                                    random_state=None,\n",
       "                                                    shrinking=True, tol=0.001,\n",
       "                                                    verbose=False),\n",
       "                                     require_dense=[True, True]),\n",
       "             iid='warn', n_jobs=-1,\n",
       "             param_grid={'classifier__C': [0.01, 0.1, 1, 10, 100],\n",
       "                         'classifier__gamma': [0.1],\n",
       "                         'classifier__kernel': ['rbf']},\n",
       "             pre_dispatch='2*n_jobs', refit=True, return_train_score=False,\n",
       "             scoring=None, verbose=15)"
      ]
     },
     "execution_count": 19,
     "metadata": {},
     "output_type": "execute_result"
    }
   ],
   "source": [
    "cv_sets = ShuffleSplit(n_splits = 1, test_size = .10, random_state = 8)\n",
    "\n",
    "grid_search_LP = GridSearchCV(estimator=classifier_LP, \n",
    "                           param_grid=param_grid_LP,\n",
    "                           cv=cv_sets,\n",
    "                           n_jobs = -1,\n",
    "                           verbose=15)\n",
    "\n",
    "grid_search_LP.fit(X_train_full,y_train_full)"
   ]
  },
  {
   "cell_type": "code",
   "execution_count": 20,
   "metadata": {},
   "outputs": [
    {
     "name": "stdout",
     "output_type": "stream",
     "text": [
      "Best Params :  {'classifier__C': 10, 'classifier__gamma': 0.1, 'classifier__kernel': 'rbf'}\n",
      "\n",
      "0.402 (+/-0.000) for {'classifier__C': 0.01, 'classifier__gamma': 0.1, 'classifier__kernel': 'rbf'}\n",
      "0.408 (+/-0.000) for {'classifier__C': 0.1, 'classifier__gamma': 0.1, 'classifier__kernel': 'rbf'}\n",
      "0.580 (+/-0.000) for {'classifier__C': 1, 'classifier__gamma': 0.1, 'classifier__kernel': 'rbf'}\n",
      "0.677 (+/-0.000) for {'classifier__C': 10, 'classifier__gamma': 0.1, 'classifier__kernel': 'rbf'}\n",
      "0.625 (+/-0.000) for {'classifier__C': 100, 'classifier__gamma': 0.1, 'classifier__kernel': 'rbf'}\n"
     ]
    }
   ],
   "source": [
    "print(\"Best Params : \",grid_search_LP.best_params_)\n",
    "print()\n",
    "means = grid_search_LP.cv_results_['mean_test_score']\n",
    "stds = grid_search_LP.cv_results_['std_test_score']\n",
    "\n",
    "for mean, std, params in zip(means, stds, grid_search_LP.cv_results_['params']):\n",
    "        print(\"%0.3f (+/-%0.03f) for %r\"\n",
    "              % (mean, std * 2, params))"
   ]
  },
  {
   "cell_type": "markdown",
   "metadata": {},
   "source": [
    "## Classification"
   ]
  },
  {
   "cell_type": "code",
   "execution_count": 21,
   "metadata": {},
   "outputs": [],
   "source": [
    "classifier_CC = grid_search_CC.best_estimator_"
   ]
  },
  {
   "cell_type": "code",
   "execution_count": 8,
   "metadata": {},
   "outputs": [
    {
     "data": {
      "text/plain": [
       "ClassifierChain(classifier=SVC(C=10, cache_size=200, class_weight=None,\n",
       "                               coef0=0.0, decision_function_shape='ovr',\n",
       "                               degree=3, gamma=0.1, kernel='rbf', max_iter=-1,\n",
       "                               probability=False, random_state=None,\n",
       "                               shrinking=True, tol=0.001, verbose=False),\n",
       "                order=None, require_dense=[True, True])"
      ]
     },
     "execution_count": 8,
     "metadata": {},
     "output_type": "execute_result"
    }
   ],
   "source": [
    "classifier_CC"
   ]
  },
  {
   "cell_type": "code",
   "execution_count": 23,
   "metadata": {},
   "outputs": [],
   "source": [
    "classifier_LP = grid_search_LP.best_estimator_"
   ]
  },
  {
   "cell_type": "code",
   "execution_count": 9,
   "metadata": {},
   "outputs": [
    {
     "data": {
      "text/plain": [
       "LabelPowerset(classifier=SVC(C=10, cache_size=200, class_weight=None, coef0=0.0,\n",
       "                             decision_function_shape='ovr', degree=3, gamma=0.1,\n",
       "                             kernel='rbf', max_iter=-1, probability=False,\n",
       "                             random_state=None, shrinking=True, tol=0.001,\n",
       "                             verbose=False),\n",
       "              require_dense=[True, True])"
      ]
     },
     "execution_count": 9,
     "metadata": {},
     "output_type": "execute_result"
    }
   ],
   "source": [
    "classifier_LP"
   ]
  },
  {
   "cell_type": "markdown",
   "metadata": {},
   "source": [
    "**1. Classifier Chains**"
   ]
  },
  {
   "cell_type": "code",
   "execution_count": 10,
   "metadata": {},
   "outputs": [
    {
     "data": {
      "text/plain": [
       "ClassifierChain(classifier=SVC(C=10, cache_size=200, class_weight=None,\n",
       "                               coef0=0.0, decision_function_shape='ovr',\n",
       "                               degree=3, gamma=0.1, kernel='rbf', max_iter=-1,\n",
       "                               probability=False, random_state=None,\n",
       "                               shrinking=True, tol=0.001, verbose=False),\n",
       "                order=None, require_dense=[True, True])"
      ]
     },
     "execution_count": 10,
     "metadata": {},
     "output_type": "execute_result"
    }
   ],
   "source": [
    "classifier_CC.fit(X_train_full,y_train_full)"
   ]
  },
  {
   "cell_type": "code",
   "execution_count": 11,
   "metadata": {},
   "outputs": [],
   "source": [
    "# save the model to disk\n",
    "filename = '../Model/CC_model_full.sav'\n",
    "pickle.dump(classifier_CC, open(filename, 'wb'))"
   ]
  },
  {
   "cell_type": "code",
   "execution_count": 12,
   "metadata": {},
   "outputs": [
    {
     "data": {
      "text/plain": [
       "ClassifierChain(classifier=SVC(C=10, cache_size=200, class_weight=None,\n",
       "                               coef0=0.0, decision_function_shape='ovr',\n",
       "                               degree=3, gamma=0.1, kernel='rbf', max_iter=-1,\n",
       "                               probability=False, random_state=None,\n",
       "                               shrinking=True, tol=0.001, verbose=False),\n",
       "                order=None, require_dense=[True, True])"
      ]
     },
     "execution_count": 12,
     "metadata": {},
     "output_type": "execute_result"
    }
   ],
   "source": [
    "classifier_CC.fit(X_train_nostopword,y_train_nostopword)"
   ]
  },
  {
   "cell_type": "code",
   "execution_count": 13,
   "metadata": {},
   "outputs": [],
   "source": [
    "# save the model to disk\n",
    "filename = '../Model/CC_model_nostopword.sav'\n",
    "pickle.dump(classifier_CC, open(filename, 'wb'))"
   ]
  },
  {
   "cell_type": "code",
   "execution_count": 14,
   "metadata": {},
   "outputs": [
    {
     "data": {
      "text/plain": [
       "ClassifierChain(classifier=SVC(C=10, cache_size=200, class_weight=None,\n",
       "                               coef0=0.0, decision_function_shape='ovr',\n",
       "                               degree=3, gamma=0.1, kernel='rbf', max_iter=-1,\n",
       "                               probability=False, random_state=None,\n",
       "                               shrinking=True, tol=0.001, verbose=False),\n",
       "                order=None, require_dense=[True, True])"
      ]
     },
     "execution_count": 14,
     "metadata": {},
     "output_type": "execute_result"
    }
   ],
   "source": [
    "classifier_CC.fit(X_train_nostemstop,y_train_nostemstop)"
   ]
  },
  {
   "cell_type": "code",
   "execution_count": 15,
   "metadata": {},
   "outputs": [],
   "source": [
    "# save the model to disk\n",
    "filename = '../Model/CC_model_nostemstop.sav'\n",
    "pickle.dump(classifier_CC, open(filename, 'wb'))"
   ]
  },
  {
   "cell_type": "code",
   "execution_count": 16,
   "metadata": {},
   "outputs": [
    {
     "data": {
      "text/plain": [
       "ClassifierChain(classifier=SVC(C=10, cache_size=200, class_weight=None,\n",
       "                               coef0=0.0, decision_function_shape='ovr',\n",
       "                               degree=3, gamma=0.1, kernel='rbf', max_iter=-1,\n",
       "                               probability=False, random_state=None,\n",
       "                               shrinking=True, tol=0.001, verbose=False),\n",
       "                order=None, require_dense=[True, True])"
      ]
     },
     "execution_count": 16,
     "metadata": {},
     "output_type": "execute_result"
    }
   ],
   "source": [
    "classifier_CC.fit(X_train_trans_full,y_train_trans_full)"
   ]
  },
  {
   "cell_type": "code",
   "execution_count": 17,
   "metadata": {},
   "outputs": [],
   "source": [
    "# save the model to disk\n",
    "filename = '../Model/CC_model_trans_full.sav'\n",
    "pickle.dump(classifier_CC, open(filename, 'wb'))"
   ]
  },
  {
   "cell_type": "code",
   "execution_count": 18,
   "metadata": {},
   "outputs": [
    {
     "data": {
      "text/plain": [
       "ClassifierChain(classifier=SVC(C=10, cache_size=200, class_weight=None,\n",
       "                               coef0=0.0, decision_function_shape='ovr',\n",
       "                               degree=3, gamma=0.1, kernel='rbf', max_iter=-1,\n",
       "                               probability=False, random_state=None,\n",
       "                               shrinking=True, tol=0.001, verbose=False),\n",
       "                order=None, require_dense=[True, True])"
      ]
     },
     "execution_count": 18,
     "metadata": {},
     "output_type": "execute_result"
    }
   ],
   "source": [
    "classifier_CC.fit(X_train_trans_nostopword,y_train_trans_nostopword)"
   ]
  },
  {
   "cell_type": "code",
   "execution_count": 19,
   "metadata": {},
   "outputs": [],
   "source": [
    "# save the model to disk\n",
    "filename = '../Model/CC_model_trans_nostopword.sav'\n",
    "pickle.dump(classifier_CC, open(filename, 'wb'))"
   ]
  },
  {
   "cell_type": "code",
   "execution_count": 20,
   "metadata": {},
   "outputs": [
    {
     "data": {
      "text/plain": [
       "ClassifierChain(classifier=SVC(C=10, cache_size=200, class_weight=None,\n",
       "                               coef0=0.0, decision_function_shape='ovr',\n",
       "                               degree=3, gamma=0.1, kernel='rbf', max_iter=-1,\n",
       "                               probability=False, random_state=None,\n",
       "                               shrinking=True, tol=0.001, verbose=False),\n",
       "                order=None, require_dense=[True, True])"
      ]
     },
     "execution_count": 20,
     "metadata": {},
     "output_type": "execute_result"
    }
   ],
   "source": [
    "classifier_CC.fit(X_train_trans_nostemstop,y_train_trans_nostemstop)"
   ]
  },
  {
   "cell_type": "code",
   "execution_count": 21,
   "metadata": {},
   "outputs": [],
   "source": [
    "# save the model to disk\n",
    "filename = '../Model/CC_model_trans_nostemstop.sav'\n",
    "pickle.dump(classifier_CC, open(filename, 'wb'))"
   ]
  },
  {
   "cell_type": "markdown",
   "metadata": {},
   "source": [
    "**2. Label Powerset**"
   ]
  },
  {
   "cell_type": "code",
   "execution_count": 22,
   "metadata": {},
   "outputs": [
    {
     "data": {
      "text/plain": [
       "LabelPowerset(classifier=SVC(C=10, cache_size=200, class_weight=None, coef0=0.0,\n",
       "                             decision_function_shape='ovr', degree=3, gamma=0.1,\n",
       "                             kernel='rbf', max_iter=-1, probability=False,\n",
       "                             random_state=None, shrinking=True, tol=0.001,\n",
       "                             verbose=False),\n",
       "              require_dense=[True, True])"
      ]
     },
     "execution_count": 22,
     "metadata": {},
     "output_type": "execute_result"
    }
   ],
   "source": [
    "classifier_LP.fit(X_train_full,y_train_full)"
   ]
  },
  {
   "cell_type": "code",
   "execution_count": 23,
   "metadata": {},
   "outputs": [],
   "source": [
    "# save the model to disk\n",
    "filename = '../Model/LP_model_full.sav'\n",
    "pickle.dump(classifier_LP, open(filename, 'wb'))"
   ]
  },
  {
   "cell_type": "code",
   "execution_count": 24,
   "metadata": {},
   "outputs": [
    {
     "data": {
      "text/plain": [
       "LabelPowerset(classifier=SVC(C=10, cache_size=200, class_weight=None, coef0=0.0,\n",
       "                             decision_function_shape='ovr', degree=3, gamma=0.1,\n",
       "                             kernel='rbf', max_iter=-1, probability=False,\n",
       "                             random_state=None, shrinking=True, tol=0.001,\n",
       "                             verbose=False),\n",
       "              require_dense=[True, True])"
      ]
     },
     "execution_count": 24,
     "metadata": {},
     "output_type": "execute_result"
    }
   ],
   "source": [
    "classifier_LP.fit(X_train_nostopword,y_train_nostopword)"
   ]
  },
  {
   "cell_type": "code",
   "execution_count": 25,
   "metadata": {},
   "outputs": [],
   "source": [
    "# save the model to disk\n",
    "filename = '../Model/LP_model_nostopword.sav'\n",
    "pickle.dump(classifier_LP, open(filename, 'wb'))"
   ]
  },
  {
   "cell_type": "code",
   "execution_count": 26,
   "metadata": {},
   "outputs": [
    {
     "data": {
      "text/plain": [
       "LabelPowerset(classifier=SVC(C=10, cache_size=200, class_weight=None, coef0=0.0,\n",
       "                             decision_function_shape='ovr', degree=3, gamma=0.1,\n",
       "                             kernel='rbf', max_iter=-1, probability=False,\n",
       "                             random_state=None, shrinking=True, tol=0.001,\n",
       "                             verbose=False),\n",
       "              require_dense=[True, True])"
      ]
     },
     "execution_count": 26,
     "metadata": {},
     "output_type": "execute_result"
    }
   ],
   "source": [
    "classifier_LP.fit(X_train_nostemstop,y_train_nostemstop)"
   ]
  },
  {
   "cell_type": "code",
   "execution_count": 27,
   "metadata": {},
   "outputs": [],
   "source": [
    "# save the model to disk\n",
    "filename = '../Model/LP_model_nostemstop.sav'\n",
    "pickle.dump(classifier_LP, open(filename, 'wb'))"
   ]
  },
  {
   "cell_type": "code",
   "execution_count": 28,
   "metadata": {},
   "outputs": [
    {
     "data": {
      "text/plain": [
       "LabelPowerset(classifier=SVC(C=10, cache_size=200, class_weight=None, coef0=0.0,\n",
       "                             decision_function_shape='ovr', degree=3, gamma=0.1,\n",
       "                             kernel='rbf', max_iter=-1, probability=False,\n",
       "                             random_state=None, shrinking=True, tol=0.001,\n",
       "                             verbose=False),\n",
       "              require_dense=[True, True])"
      ]
     },
     "execution_count": 28,
     "metadata": {},
     "output_type": "execute_result"
    }
   ],
   "source": [
    "classifier_LP.fit(X_train_trans_full,y_train_trans_full)"
   ]
  },
  {
   "cell_type": "code",
   "execution_count": 29,
   "metadata": {},
   "outputs": [],
   "source": [
    "# save the model to disk\n",
    "filename = '../Model/LP_model_trans_full.sav'\n",
    "pickle.dump(classifier_LP, open(filename, 'wb'))"
   ]
  },
  {
   "cell_type": "code",
   "execution_count": 30,
   "metadata": {},
   "outputs": [
    {
     "data": {
      "text/plain": [
       "LabelPowerset(classifier=SVC(C=10, cache_size=200, class_weight=None, coef0=0.0,\n",
       "                             decision_function_shape='ovr', degree=3, gamma=0.1,\n",
       "                             kernel='rbf', max_iter=-1, probability=False,\n",
       "                             random_state=None, shrinking=True, tol=0.001,\n",
       "                             verbose=False),\n",
       "              require_dense=[True, True])"
      ]
     },
     "execution_count": 30,
     "metadata": {},
     "output_type": "execute_result"
    }
   ],
   "source": [
    "classifier_LP.fit(X_train_trans_nostopword,y_train_trans_nostopword)"
   ]
  },
  {
   "cell_type": "code",
   "execution_count": 31,
   "metadata": {},
   "outputs": [],
   "source": [
    "# save the model to disk\n",
    "filename = '../Model/LP_model_trans_nostopword.sav'\n",
    "pickle.dump(classifier_LP, open(filename, 'wb'))"
   ]
  },
  {
   "cell_type": "code",
   "execution_count": 32,
   "metadata": {},
   "outputs": [
    {
     "data": {
      "text/plain": [
       "LabelPowerset(classifier=SVC(C=10, cache_size=200, class_weight=None, coef0=0.0,\n",
       "                             decision_function_shape='ovr', degree=3, gamma=0.1,\n",
       "                             kernel='rbf', max_iter=-1, probability=False,\n",
       "                             random_state=None, shrinking=True, tol=0.001,\n",
       "                             verbose=False),\n",
       "              require_dense=[True, True])"
      ]
     },
     "execution_count": 32,
     "metadata": {},
     "output_type": "execute_result"
    }
   ],
   "source": [
    "classifier_LP.fit(X_train_trans_nostemstop,y_train_trans_nostemstop)"
   ]
  },
  {
   "cell_type": "code",
   "execution_count": 33,
   "metadata": {},
   "outputs": [],
   "source": [
    "# save the model to disk\n",
    "filename = '../Model/LP_model_trans_nostemstop.sav'\n",
    "pickle.dump(classifier_LP, open(filename, 'wb'))"
   ]
  },
  {
   "cell_type": "code",
   "execution_count": null,
   "metadata": {},
   "outputs": [],
   "source": []
  },
  {
   "cell_type": "code",
   "execution_count": null,
   "metadata": {},
   "outputs": [],
   "source": []
  }
 ],
 "metadata": {
  "kernelspec": {
   "display_name": "Python 3",
   "language": "python",
   "name": "python3"
  },
  "language_info": {
   "codemirror_mode": {
    "name": "ipython",
    "version": 3
   },
   "file_extension": ".py",
   "mimetype": "text/x-python",
   "name": "python",
   "nbconvert_exporter": "python",
   "pygments_lexer": "ipython3",
   "version": "3.7.3"
  }
 },
 "nbformat": 4,
 "nbformat_minor": 2
}
