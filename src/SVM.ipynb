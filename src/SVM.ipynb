{
 "cells": [
  {
   "cell_type": "code",
   "execution_count": 1,
   "metadata": {},
   "outputs": [],
   "source": [
    "import pandas as pd\n",
    "import numpy as np\n",
    "import matplotlib.pyplot as plt\n",
    "import seaborn as sns\n",
    "\n",
    "import math\n",
    "from sklearn.svm import SVC\n",
    "from sklearn.metrics import classification_report, confusion_matrix,accuracy_score,hamming_loss\n",
    "\n",
    "from skmultilearn.problem_transform import ClassifierChain\n",
    "\n",
    "import pickle\n",
    "\n",
    "import warnings\n",
    "warnings.filterwarnings('ignore')"
   ]
  },
  {
   "cell_type": "code",
   "execution_count": 2,
   "metadata": {},
   "outputs": [],
   "source": [
    "data_train_nostemstop = pd.read_csv(\"../Data/Data_train_nostemstop_tfidf.csv\")\n",
    "data_test_nostemstop = pd.read_csv(\"../Data/Data_test_nostemstop_tfidf.csv\")"
   ]
  },
  {
   "cell_type": "code",
   "execution_count": 3,
   "metadata": {},
   "outputs": [],
   "source": [
    "X_train_nostemstop = data_train_nostemstop.drop(['HS','Abusive','HS_Individual','HS_Group','HS_Religion','HS_Race','HS_Physical','HS_Gender','HS_Other','HS_Weak','HS_Moderate','HS_Strong'],axis=1)\n",
    "y_train_nostemstop = data_train_nostemstop[['HS','Abusive','HS_Individual','HS_Group','HS_Religion','HS_Race','HS_Physical','HS_Gender','HS_Other','HS_Weak','HS_Moderate','HS_Strong']]\n",
    "\n",
    "X_test_nostemstop = data_test_nostemstop.drop(['HS','Abusive','HS_Individual','HS_Group','HS_Religion','HS_Race','HS_Physical','HS_Gender','HS_Other','HS_Weak','HS_Moderate','HS_Strong'],axis=1)\n",
    "y_test_nostemstop = data_test_nostemstop[['HS','Abusive','HS_Individual','HS_Group','HS_Religion','HS_Race','HS_Physical','HS_Gender','HS_Other','HS_Weak','HS_Moderate','HS_Strong']]"
   ]
  },
  {
   "cell_type": "code",
   "execution_count": 4,
   "metadata": {},
   "outputs": [],
   "source": [
    "#default hyperparameter\n",
    "C = 10\n",
    "kernel = \"rbf\"\n",
    "gamma = 0.1"
   ]
  },
  {
   "cell_type": "code",
   "execution_count": 5,
   "metadata": {},
   "outputs": [],
   "source": [
    "classifier_CC = ClassifierChain(SVC(C=C, gamma = gamma, kernel = kernel))"
   ]
  },
  {
   "cell_type": "code",
   "execution_count": 12,
   "metadata": {},
   "outputs": [],
   "source": [
    "kernel_param = ['linear','poly','sigmoid','rbf']\n",
    "C_param = [.01, .1, 10, 100]\n",
    "gamma_param = [.0001, .001, .01, .1, 1, 10, 100]"
   ]
  },
  {
   "cell_type": "code",
   "execution_count": 13,
   "metadata": {},
   "outputs": [],
   "source": [
    "param = {\n",
    "    \"kernel\" : kernel_param,\n",
    "    \"C\" : C_param,\n",
    "    \"gamma\" : gamma_param\n",
    "}"
   ]
  },
  {
   "cell_type": "code",
   "execution_count": 18,
   "metadata": {},
   "outputs": [],
   "source": [
    "def labelSetAccuracy(y_true, y_pred):\n",
    "    acc_list = []\n",
    "    for i in range(y_true.shape[0]):\n",
    "        set_true = set( np.where(y_true[i])[0] )\n",
    "        set_pred = set( np.where(y_pred[i])[0] )\n",
    "#         print('\\nset_true: {0}'.format(set_true))\n",
    "#         print('set_pred: {0}'.format(set_pred))\n",
    "        tmp_a = None\n",
    "        if len(set_true) == 0 and len(set_pred) == 0:\n",
    "            tmp_a = 1\n",
    "        else:\n",
    "            tmp_a = len(set_true.intersection(set_pred))/\\\n",
    "                    float( len(set_true.union(set_pred)) )\n",
    "        #print('tmp_a: {0}'.format(tmp_a))\n",
    "        acc_list.append(tmp_a)\n",
    "    return np.mean(acc_list)"
   ]
  },
  {
   "cell_type": "code",
   "execution_count": 19,
   "metadata": {},
   "outputs": [
    {
     "name": "stdout",
     "output_type": "stream",
     "text": [
      "acc kernel =  [0.713036037784679, 0.39945652173913043, 0.7487580874741201, 0.7486073369565217]\n",
      "best kernel =  sigmoid\n",
      "acc C =  [0.39945652173913043, 0.4009239130434783, 0.7487580874741201, 0.6902910412353348]\n",
      "best C =  10\n",
      "acc gamma =  [0.39945652173913043, 0.4009239130434783, 0.6677140484817117, 0.7487580874741201, 0.47247064001819433, 0.39001520445134574, 0.3172634144237405]\n",
      "best gamma =  0.1\n"
     ]
    }
   ],
   "source": [
    "for i in param:\n",
    "    if i == \"kernel\":\n",
    "        acc_kernel = []\n",
    "        for j in param[i]:\n",
    "            kernel = j\n",
    "            classifier_CC = ClassifierChain(SVC(C=C, gamma = gamma, kernel = kernel))\n",
    "            classifier_CC.fit(X_train_nostemstop,y_train_nostemstop)\n",
    "            pickle.dump(classifier_CC, open(\"../svm_model/\"+str(kernel)+\".sav\", 'wb'))\n",
    "            pred = classifier_CC.predict(X_test_nostemstop)\n",
    "            acc_kernel.append(labelSetAccuracy(y_test_nostemstop.values,pred.toarray()))\n",
    "        print(\"acc kernel = \", acc_kernel)\n",
    "        kernel = param[i][np.array(acc_kernel).argmax()]\n",
    "        print(\"best kernel = \",kernel)\n",
    "    elif i == \"C\":\n",
    "        acc_C = []\n",
    "        for j in param[i]:\n",
    "            C = j\n",
    "            classifier_CC = ClassifierChain(SVC(C=C, gamma = gamma, kernel = kernel))\n",
    "            classifier_CC.fit(X_train_nostemstop,y_train_nostemstop)\n",
    "            pickle.dump(classifier_CC, open(\"../svm_model/C_\"+str(C)+\".sav\", 'wb'))\n",
    "            pred = classifier_CC.predict(X_test_nostemstop)\n",
    "            acc_C.append(labelSetAccuracy(y_test_nostemstop.values,pred.toarray()))\n",
    "        print(\"acc C = \", acc_C)\n",
    "        C = param[i][np.array(acc_C).argmax()]\n",
    "        print(\"best C = \",C)\n",
    "    else:\n",
    "        acc_gamma = []\n",
    "        for j in param[i]:\n",
    "            gamma = j\n",
    "            classifier_CC = ClassifierChain(SVC(C=C, gamma = gamma, kernel = kernel))\n",
    "            classifier_CC.fit(X_train_nostemstop,y_train_nostemstop)\n",
    "            pickle.dump(classifier_CC, open(\"../svm_model/gamma_\"+str(gamma)+\".sav\", 'wb'))\n",
    "            pred = classifier_CC.predict(X_test_nostemstop)\n",
    "            acc_gamma.append(labelSetAccuracy(y_test_nostemstop.values,pred.toarray()))\n",
    "        print(\"acc gamma = \", acc_gamma)\n",
    "        gamma = param[i][np.array(acc_gamma).argmax()]\n",
    "        print(\"best gamma = \",gamma)"
   ]
  },
  {
   "cell_type": "code",
   "execution_count": 26,
   "metadata": {},
   "outputs": [],
   "source": [
    "C_100 = pickle.load(open(\"../svm_model/C_100.sav\", 'rb'))\n",
    "pred_C100 = C_100.predict(X_train_nostemstop)"
   ]
  },
  {
   "cell_type": "code",
   "execution_count": 29,
   "metadata": {},
   "outputs": [
    {
     "data": {
      "text/plain": [
       "0.8962068178222663"
      ]
     },
     "execution_count": 29,
     "metadata": {},
     "output_type": "execute_result"
    }
   ],
   "source": [
    "labelSetAccuracy(y_train_nostemstop.values,pred_C100.toarray())"
   ]
  },
  {
   "cell_type": "code",
   "execution_count": 37,
   "metadata": {},
   "outputs": [
    {
     "data": {
      "text/plain": [
       "0.6902910412353348"
      ]
     },
     "execution_count": 37,
     "metadata": {},
     "output_type": "execute_result"
    }
   ],
   "source": [
    "pred_C100_test = C_100.predict(X_test_nostemstop)\n",
    "labelSetAccuracy(y_test_nostemstop.values,pred_C100_test.toarray())"
   ]
  },
  {
   "cell_type": "code",
   "execution_count": 42,
   "metadata": {},
   "outputs": [
    {
     "name": "stdout",
     "output_type": "stream",
     "text": [
      "acc HS C 100 (train) =  0.9254756871035941\n",
      "acc HS C 100 (test) =  0.79375\n"
     ]
    }
   ],
   "source": [
    "print(\"acc HS C 100 (train) = \",accuracy_score(y_train_nostemstop['HS'],[i[0] for i in pred_C100.toarray()]))\n",
    "print(\"acc HS C 100 (test) = \",accuracy_score(y_test_nostemstop['HS'],[i[0] for i in pred_C100_test.toarray()]))"
   ]
  },
  {
   "cell_type": "code",
   "execution_count": 30,
   "metadata": {},
   "outputs": [
    {
     "data": {
      "text/plain": [
       "0.31856396187791536"
      ]
     },
     "execution_count": 30,
     "metadata": {},
     "output_type": "execute_result"
    }
   ],
   "source": [
    "gamma_100 = pickle.load(open(\"../svm_model/gamma_100.sav\", 'rb'))\n",
    "pred_gamma100 = gamma_100.predict(X_train_nostemstop)\n",
    "labelSetAccuracy(y_train_nostemstop.values,pred_gamma100.toarray())"
   ]
  },
  {
   "cell_type": "code",
   "execution_count": 38,
   "metadata": {},
   "outputs": [
    {
     "data": {
      "text/plain": [
       "0.3172634144237405"
      ]
     },
     "execution_count": 38,
     "metadata": {},
     "output_type": "execute_result"
    }
   ],
   "source": [
    "pred_gamma100_test = gamma_100.predict(X_test_nostemstop)\n",
    "labelSetAccuracy(y_test_nostemstop.values,pred_gamma100_test.toarray())"
   ]
  },
  {
   "cell_type": "code",
   "execution_count": 43,
   "metadata": {},
   "outputs": [
    {
     "name": "stdout",
     "output_type": "stream",
     "text": [
      "acc HS gamma 100 (train) =  0.5530051344004833\n",
      "acc HS gamma 100 (test) =  0.5483695652173913\n"
     ]
    }
   ],
   "source": [
    "print(\"acc HS gamma 100 (train) = \",accuracy_score(y_train_nostemstop['HS'],[i[0] for i in pred_gamma100.toarray()]))\n",
    "print(\"acc HS gamma 100 (test) = \",accuracy_score(y_test_nostemstop['HS'],[i[0] for i in pred_gamma100_test.toarray()]))"
   ]
  },
  {
   "cell_type": "code",
   "execution_count": 36,
   "metadata": {},
   "outputs": [
    {
     "data": {
      "text/plain": [
       "0.8294475965157029"
      ]
     },
     "execution_count": 36,
     "metadata": {},
     "output_type": "execute_result"
    }
   ],
   "source": [
    "gamma_01 = pickle.load(open(\"../svm_model/gamma_0.1.sav\", 'rb'))\n",
    "pred_gamma01 = gamma_01.predict(X_train_nostemstop)\n",
    "labelSetAccuracy(y_train_nostemstop.values,pred_gamma01.toarray())"
   ]
  },
  {
   "cell_type": "code",
   "execution_count": 39,
   "metadata": {},
   "outputs": [
    {
     "data": {
      "text/plain": [
       "0.7487580874741201"
      ]
     },
     "execution_count": 39,
     "metadata": {},
     "output_type": "execute_result"
    }
   ],
   "source": [
    "pred_gamma01_test = gamma_01.predict(X_test_nostemstop)\n",
    "labelSetAccuracy(y_test_nostemstop.values,pred_gamma01_test.toarray())"
   ]
  },
  {
   "cell_type": "code",
   "execution_count": 44,
   "metadata": {},
   "outputs": [
    {
     "name": "stdout",
     "output_type": "stream",
     "text": [
      "acc HS gamma 0.1 (train) =  0.8752642706131079\n",
      "acc HS gamma 0.1 (test) =  0.8230978260869565\n"
     ]
    }
   ],
   "source": [
    "print(\"acc HS gamma 0.1 (train) = \",accuracy_score(y_train_nostemstop['HS'],[i[0] for i in pred_gamma01.toarray()]))\n",
    "print(\"acc HS gamma 0.1 (test) = \",accuracy_score(y_test_nostemstop['HS'],[i[0] for i in pred_gamma01_test.toarray()]))"
   ]
  },
  {
   "cell_type": "code",
   "execution_count": null,
   "metadata": {},
   "outputs": [],
   "source": []
  }
 ],
 "metadata": {
  "kernelspec": {
   "display_name": "Python 3",
   "language": "python",
   "name": "python3"
  },
  "language_info": {
   "codemirror_mode": {
    "name": "ipython",
    "version": 3
   },
   "file_extension": ".py",
   "mimetype": "text/x-python",
   "name": "python",
   "nbconvert_exporter": "python",
   "pygments_lexer": "ipython3",
   "version": "3.7.3"
  }
 },
 "nbformat": 4,
 "nbformat_minor": 2
}
